{
 "cells": [
  {
   "cell_type": "markdown",
   "metadata": {},
   "source": [
    "“超级引擎”是一家专门生产汽车引擎的公司，根据政府发布的新排放要求，引擎排放平均值要低于20ppm，\n",
    "（ppm是英文百万分之一的缩写，这里我们只要理解为是按照环保要求汽车尾气中碳氢化合物要低于20ppm）。\n",
    "\n",
    "公司制造出10台引擎供测试使用，每一台的排放水平如下：\n",
    "\n",
    "15.6 16.2 22.5 20.5 16.4 19.4 16.6 17.9 12.7 13.9\n",
    "\n",
    "怎么知道，公司生产的引擎是否符合政府规定呢？\n",
    "\n",
    "如果你是这家公司的数据分析师，该怎么办呢？"
   ]
  },
  {
   "cell_type": "markdown",
   "metadata": {},
   "source": [
    "# 一、描述统计分析"
   ]
  },
  {
   "cell_type": "markdown",
   "metadata": {},
   "source": [
    "我们开展调查研究并计算统计结果时，我们会在报告的第一部分进行描述统计分析，例如平均值和标准差。描述统计量是研究的核心。告诉我们研究中发生的情况，应该始终报告出来。"
   ]
  },
  {
   "cell_type": "code",
   "execution_count": 1,
   "metadata": {},
   "outputs": [],
   "source": [
    "#导入包\n",
    "import pandas as pd\n",
    "import numpy as np\n",
    "import matplotlib.pyplot as plt"
   ]
  },
  {
   "cell_type": "code",
   "execution_count": 16,
   "metadata": {},
   "outputs": [],
   "source": [
    "#样本数据集\n",
    "dataSer=pd.Series([15.6,16.2,22.5,20.5,16.4,\n",
    "                   19.4,16.6,17.9,12.7,13.9])"
   ]
  },
  {
   "cell_type": "code",
   "execution_count": 17,
   "metadata": {},
   "outputs": [
    {
     "name": "stdout",
     "output_type": "stream",
     "text": [
      "样本平均值= 17.169999999999998 单位：ppm\n",
      "样本标准差= 2.9814426038413018 单位：ppm\n"
     ]
    }
   ],
   "source": [
    "#样本平均值\n",
    "sample_mean=dataSer.mean()\n",
    "'''\n",
    "这里要区别：数据集的标准差，和样本标准差\n",
    "数据集的标准差公式除以的是n，样本标准差公式除以的是n-1。\n",
    "样本标准差，用途是用样本标准差估计出总体标准差\n",
    "pandas计算的标准差，默认除以的是n-1，也就是计算出的是样本标准差\n",
    "pandas标准差官网地址：https://pandas.pydata.org/pandas-docs/stable/generated/pandas.DataFrame.std.html\n",
    "'''\n",
    "#样本标准差\n",
    "sample_std=dataSer.std()\n",
    "print('样本平均值=',sample_mean,'单位：ppm')\n",
    "print('样本标准差=',sample_std,'单位：ppm')"
   ]
  },
  {
   "cell_type": "markdown",
   "metadata": {},
   "source": [
    "# 二、推论统计分析"
   ]
  },
  {
   "cell_type": "markdown",
   "metadata": {},
   "source": [
    "推论统计分析报告中包括：假设检验，置信区间，效应量"
   ]
  },
  {
   "cell_type": "markdown",
   "metadata": {},
   "source": [
    "## 1. 问题是什么？"
   ]
  },
  {
   "cell_type": "markdown",
   "metadata": {},
   "source": [
    "### 零假设和备选假设"
   ]
  },
  {
   "cell_type": "markdown",
   "metadata": {},
   "source": [
    "要研究的问题是：这些样本数据是否满足新标准呢？\n",
    "\n",
    "根据这个问题我提出来下面两个互为相反的假设。\n",
    "\n",
    "零假设H0：公司引擎排放不满足标准，也就是平均值u>=20。这里的20是政府规定新标准的最低可能值。\n",
    "\n",
    "零假设总是表述为研究没有改变，没有效果，不起作用等，这里就是不满足标准。\n",
    "\n",
    "备选假设H1：公司引擎排放满足标准，也就是平均值u<20"
   ]
  },
  {
   "cell_type": "markdown",
   "metadata": {},
   "source": [
    "### 检验类型"
   ]
  },
  {
   "cell_type": "markdown",
   "metadata": {},
   "source": [
    "检验类型有很多种，因为这里只有1个样本，所以选择单样本检验。\n",
    "\n",
    "检验类型参考资料：http://support.minitab.com/zh-cn/minitab/17/topic-library/basic-statistics-and-graphs/hypothesis-tests/tests-of-means/types-of-t-tests/"
   ]
  },
  {
   "cell_type": "markdown",
   "metadata": {},
   "source": [
    "### 抽样分布类型"
   ]
  },
  {
   "cell_type": "markdown",
   "metadata": {},
   "source": [
    "我们还要判断抽样分布是哪种？因为抽样分布的类型，决定了后面计算p值的不同。\n",
    "\n",
    "在我们这个汽车引擎案例中，样本大小是10（小于30），属于小样本。那小样本的抽样分布是否满足t分布呢？因为t分布还要求数据集近似正态分布，所以下面图片我们看下样本数据集的分布长什么样。"
   ]
  },
  {
   "cell_type": "code",
   "execution_count": 20,
   "metadata": {},
   "outputs": [
    {
     "data": {
      "image/png": "[encoded data removed]",
      "text/plain": [
       "<matplotlib.figure.Figure at 0x7f0ea1b914a8>"
      ]
     },
     "metadata": {},
     "output_type": "display_data"
    }
   ],
   "source": [
    "'''\n",
    "直方图能够粗略估计数据密度，如果想给数据一个更精确的拟合曲线（专业术语叫：核密度估计kernel density estimate (KDE)），\n",
    "Seaborn 可以很方便的画出直方图和拟合曲线。\n",
    "查看数据集分布官网教程地址：https://seaborn.pydata.org/tutorial/distributions.html\n",
    "'''\n",
    "'''\n",
    "需要在conda中先安装绘图包seaborn：\n",
    "conda install seaborn\n",
    "'''\n",
    "import seaborn as sns\n",
    "\n",
    "#查看数据集分布\n",
    "sns.distplot(dataSer)\n",
    "plt.title('数据集分布')\n",
    "plt.show()"
   ]
  },
  {
   "cell_type": "markdown",
   "metadata": {},
   "source": [
    "通过观察上面数据集分布图，数据集近似正态分布，满足t分布的使用条件，所以抽样分布是t分布，自由度df=n-1=10-1=9。"
   ]
  },
  {
   "cell_type": "markdown",
   "metadata": {},
   "source": [
    "### 检验方向"
   ]
  },
  {
   "cell_type": "markdown",
   "metadata": {},
   "source": [
    "单尾检验（左尾，右尾），还是双尾检验？"
   ]
  },
  {
   "cell_type": "markdown",
   "metadata": {
    "collapsed": true
   },
   "source": [
    "因为备选假设是公司引擎排放满足标准，也就是平均值u<20\n",
    "\n",
    "所以我们使用单尾检验中的左尾检验"
   ]
  },
  {
   "cell_type": "markdown",
   "metadata": {},
   "source": [
    "### 总结"
   ]
  },
  {
   "cell_type": "markdown",
   "metadata": {
    "collapsed": true
   },
   "source": [
    "综合以上分析，本次假设检验是单样本t检验，单尾检验中的左尾。"
   ]
  },
  {
   "cell_type": "markdown",
   "metadata": {},
   "source": [
    "# 2.证据是什么？"
   ]
  },
  {
   "cell_type": "markdown",
   "metadata": {},
   "source": [
    "在零假设成立前提下，得到样本平均值的概率p是多少？\n",
    "\n",
    "计算p值步骤也很简单：\n",
    "\n",
    "1）计算出标准误差\n",
    "\n",
    "标准误差=样本标准差除以样本大小n的开方。这里的样本标准差是用来估计总体标准差的\n",
    "\n",
    "2）计算t值\n",
    "\n",
    "t=（样本平均值-总体平均值）/标准误差\n",
    "\n",
    "3）根据t值，查找t表格，得到概率p值"
   ]
  },
  {
   "cell_type": "code",
   "execution_count": 23,
   "metadata": {},
   "outputs": [
    {
     "name": "stdout",
     "output_type": "stream",
     "text": [
      "标准误差se= 0.9428149341201592\n",
      "t= -3.001649525885985\n"
     ]
    }
   ],
   "source": [
    "'''\n",
    "方法一：手动计算，熟悉过程\n",
    "1）计算标准误差\n",
    "标准误差=样本标准差/(n的开方)\n",
    "'''\n",
    "#样本大小\n",
    "n = 10\n",
    "#标准误差=样本标准差/(n的开方)\n",
    "se = sample_std / np.sqrt(n)\n",
    "\n",
    "'''\n",
    "2）计算t值\n",
    "t=（样本平均值-总体平均值）/标准误差\n",
    "'''\n",
    "#总体平均值：就是政府发布的标准20\n",
    "pop_mean=20\n",
    "#t值\n",
    "t = (sample_mean - pop_mean) / se\n",
    "#计算出t值=-3\n",
    "\n",
    "print('标准误差se=',se)\n",
    "print('t=',t)\n",
    "\n",
    "'''\n",
    "#2)然后查t表，自由度df=n-1,看该t值对应的概率：p=0.0149\n",
    "计算该值的工具：https://www.graphpad.com/quickcalcs/\n",
    "'''\n",
    "pass"
   ]
  },
  {
   "cell_type": "code",
   "execution_count": 24,
   "metadata": {},
   "outputs": [
    {
     "name": "stdout",
     "output_type": "stream",
     "text": [
      "t值= -3.001649525885985 双尾检验的p值= 0.014916414248897527\n"
     ]
    }
   ],
   "source": [
    "'''\n",
    "方法二：用python统计包scipy自动计算\n",
    "用scipy计算出的是：双尾检验\n",
    "单（1samp）样本t检验（ttest_1samp）：https://docs.scipy.org/doc/scipy/reference/generated/scipy.stats.ttest_1samp.html\n",
    "相关（related）样本t检验（ttest_rel）：https://docs.scipy.org/doc/scipy/reference/generated/scipy.stats.ttest_rel.html\n",
    "双独立（independent）样本t检验（ttest_ind）：https://docs.scipy.org/doc/scipy/reference/generated/scipy.stats.ttest_ind.html\n",
    "'''\n",
    "#导入统计模块（stats）\n",
    "from scipy import stats\n",
    "\n",
    "#总体平均值\n",
    "pop_mean=20\n",
    "\n",
    "'''\n",
    "ttest_1samp：单独样本t检验\n",
    "返回的第1个值t是假设检验计算出的（t值），\n",
    "第2个值p是双尾检验的p值\n",
    "'''\n",
    "t,p_twoTail = stats.ttest_1samp(dataSer, pop_mean)\n",
    "\n",
    "print('t值=',t,'双尾检验的p值=',p_twoTail) "
   ]
  },
  {
   "cell_type": "code",
   "execution_count": 25,
   "metadata": {},
   "outputs": [
    {
     "name": "stdout",
     "output_type": "stream",
     "text": [
      "单尾检验的p值= 0.0074582071244487635\n"
     ]
    }
   ],
   "source": [
    "'''\n",
    "因为scipy计算出的是双尾检验的t值和p值，但是我们这里是左尾检验。\n",
    "根据对称性，双尾的p值是对应单尾p值的2倍\n",
    "'''\n",
    "#单尾检验的p值\n",
    "p_oneTail=p_twoTail/2\n",
    "\n",
    "print('单尾检验的p值=',p_oneTail)"
   ]
  },
  {
   "cell_type": "markdown",
   "metadata": {},
   "source": [
    "## 3. 判断标准是什么？"
   ]
  },
  {
   "cell_type": "code",
   "execution_count": 26,
   "metadata": {},
   "outputs": [],
   "source": [
    "#判断标准（显著水平）使用alpha=5%\n",
    "alpha=0.05"
   ]
  },
  {
   "cell_type": "markdown",
   "metadata": {},
   "source": [
    "## 4. 做出结论"
   ]
  },
  {
   "cell_type": "code",
   "execution_count": 20,
   "metadata": {},
   "outputs": [
    {
     "name": "stdout",
     "output_type": "stream",
     "text": [
      "拒绝零假设，有统计显著，也就是汽车引擎排放满足标准\n"
     ]
    }
   ],
   "source": [
    "'''\n",
    "左尾判断条件：t < 0 and  p < 判断标准（显著水平）alpha\n",
    "右尾判断条件：t > 0 and  p < 判断标准（显著水平）alpha\n",
    "'''\n",
    "#做出结论\n",
    "if(t<0 and p_oneTail< alpha): \n",
    "    #左尾判断条件\n",
    "    print('拒绝零假设，有统计显著，也就是汽车引擎排放满足标准')\n",
    "else: \n",
    "    print('接受零假设，没有统计显著，也就是汽车引擎排放不满足标准')"
   ]
  },
  {
   "cell_type": "markdown",
   "metadata": {},
   "source": [
    "对很多科学来说，我们使用APA格式来报告假设检验的结果。APA表示的美国心理学会，APA格式是美国心理学会给出了如何撰写研究论文的完整指南，其中一部分告诉我们如何写出推论统计学结果。\n",
    "\n",
    "图中给出了写出t检验结果的一般规则:t(df)=x.xx,p=.xx,检验方向\n",
    "\n",
    "我们按图中标出的序号，看下在报告假设检验时，需要告诉读者以下几点信息：\n",
    "1）检验类型\n",
    "包括检验类型，抽样分布，检验方向\n",
    "首先执行的是哪种类型的检验？在此示例中是单样本t检验，接着在括号中写出自由度，写上等号，然后给出t值，保留两位小数。写上逗号，然后给出p值，同样保留两位小数，然后输出逗号，并指明检验方向。是单尾检验还是双尾检验。\n",
    "2）精确的p值\n",
    "然后给出p值，同样保留两位小数，然后输出逗号，\n",
    "3）给出检验方向，例如是单尾检验还是双尾检验。\n",
    "4）显著性水平\n",
    "始终让读者知道你在做出决策时使用的显著性水平。\n",
    "\n",
    "独立样本t(9)=-3.00 , p=.0074 (α=5%),单尾检验（左尾）"
   ]
  },
  {
   "cell_type": "markdown",
   "metadata": {},
   "source": [
    "## 5.置信区间"
   ]
  },
  {
   "cell_type": "markdown",
   "metadata": {},
   "source": [
    "图片里是APA格式的置信区间：平均值的置信区间，95% CI=(a,b)\n",
    "\n",
    "在报告告置信区间时，提供了这样几个信息：\n",
    "1）开头会说是哪种类型的置信区间\n",
    "例如在单样本检验中是单个平均值的置信区间，但是在我们后面要讲到的相关样本检验是两个平均值之间差异的置信区间。\n",
    "在这个案例里，我们是单个平均值的置信区间\n",
    "2）置信水平和区间的上下限。\n",
    "置信水平（简写为CI），括号里写上下限。这里是95的置信水平"
   ]
  },
  {
   "cell_type": "code",
   "execution_count": 28,
   "metadata": {},
   "outputs": [],
   "source": [
    "'''\n",
    "1）置信水平对应的t值（t_ci）\n",
    "查t表格可以得到，95%的置信水平，自由度是n-1对应的t值\n",
    "2）计算上下限\n",
    "置信区间上限a=样本平均值 - t_ci ×标准误差\n",
    "置信区间下限b=样本平均值 + t_ci ×标准误差\n",
    "'''\n",
    "\n",
    "'''\n",
    "查找t表格获取\n",
    "95%的置信水平，自由度是n-1对应的t值\n",
    "注意：课程中这里对应的下面t_ci值有误，以下面的值为准\n",
    "'''\n",
    "t_ci=2.262\n",
    "#使用scipy计算标准误差\n",
    "se=stats.sem(dataSer)\n",
    "#置信区间上限\n",
    "a=sample_mean - t_ci * se\n",
    "#置信区间下限\n",
    "b=sample_mean + t_ci * se\n",
    "\n",
    "\n",
    "#标准误差:https://docs.scipy.org/doc/scipy-0.14.0/reference/generated/scipy.stats.sem.html"
   ]
  },
  {
   "cell_type": "code",
   "execution_count": 29,
   "metadata": {},
   "outputs": [
    {
     "name": "stdout",
     "output_type": "stream",
     "text": [
      "单个平均值的置信区间，95置信水平 CI=(15.037353,19.302647)\n"
     ]
    }
   ],
   "source": [
    "print('单个平均值的置信区间，95置信水平 CI=(%f,%f)' % (a,b))"
   ]
  },
  {
   "cell_type": "markdown",
   "metadata": {},
   "source": [
    "### 6.效应量"
   ]
  },
  {
   "cell_type": "markdown",
   "metadata": {},
   "source": [
    "还需要在报告中给出效应量（effect size）。什么是效应量呢？\n",
    "\n",
    "效应量是指处理效应的大小，例如药物A比药物B效果显著。度量效应量有很多种，但大多数都属于两大主要类别。\n",
    "\n",
    "1）第一种叫做差异度量\n",
    "\n",
    "例如在对比平均值时，衡量效应大小的常见标准之一是Cohen's d\n",
    "\n",
    "Cohen's d = （样本平均值1-样本平均值2) / 标准差  \n",
    "\n",
    "Cohen's d 除以的是标准差，也就是以标准差为单位，样本平均值和总体平均值之间相差多少。\n",
    "\n",
    "2）第二种叫做相关度度量\n",
    "\n",
    "例如R平方，表示某个变量的变化比例与另一变量的关系。可以用t检验的信息推出R平方的公式，这里的t值从t检验中获得的值，df是自由度。\n",
    "\n",
    "r2=t2 / (t2+df),其中r2是指r的平方，t2是t的平方\n",
    "\n",
    "如果r平方等于20%，表示我们可以说通过知道另一个变量能够接受相关变量20%的变化情况"
   ]
  },
  {
   "cell_type": "markdown",
   "metadata": {},
   "source": [
    "为什么要给出效应量？\n",
    "\n",
    "在判断某个调查研究的结果，是否有意义或者重要时，要考虑的另一项指标是效应量。效应量太小，意味着处理即使达到了显著水平，也缺乏实用价值。\n",
    "\n",
    "所以，在假设检验中，我们给出了是否具有统计显著性，也要给出效应量，一起来判断研究结果是否有意义。\n",
    "\n",
    "效应量报告格式：d=x.xx ，R2=.xx"
   ]
  },
  {
   "cell_type": "code",
   "execution_count": 30,
   "metadata": {},
   "outputs": [
    {
     "name": "stdout",
     "output_type": "stream",
     "text": [
      "d= -0.9492049239364257\n",
      "R2= 0.5002748453994631\n"
     ]
    }
   ],
   "source": [
    "'''\n",
    "效应量：差异指标Cohen's d\n",
    "'''\n",
    "d=(sample_mean - pop_mean) / sample_std\n",
    "'''\n",
    "效应量：相关度指标R2\n",
    "'''\n",
    "#样本大小\n",
    "n=10\n",
    "#自由度\n",
    "df=n-1\n",
    "R2=(t*t)/(t*t+df)\n",
    "\n",
    "print('d=',d)\n",
    "print('R2=',R2)"
   ]
  },
  {
   "cell_type": "markdown",
   "metadata": {},
   "source": [
    "# 三、数据分析报告"
   ]
  },
  {
   "cell_type": "markdown",
   "metadata": {},
   "source": [
    "1、描述统计分析\n",
    "\n",
    "样本平均值17.17ppm，样本标准差2.98ppm\n",
    "\n",
    "2、推论统计分析\n",
    "\n",
    "1）假设检验\n",
    "\n",
    "独立样本t(9)=-3.00,p=.0074(α=5%)，单尾检验（左尾）\n",
    "\n",
    "公司引擎排放满足标准\n",
    "\n",
    "2）置信区间\n",
    "\n",
    "平均值的置信区间，95% CI=(17.11,17.23)\n",
    "\n",
    "3）效应量\n",
    "\n",
    "d=-0.94\n"
   ]
  }
 ],
 "metadata": {
  "kernelspec": {
   "display_name": "Python 3",
   "language": "python",
   "name": "python3"
  },
  "language_info": {
   "codemirror_mode": {
    "name": "ipython",
    "version": 3
   },
   "file_extension": ".py",
   "mimetype": "text/x-python",
   "name": "python",
   "nbconvert_exporter": "python",
   "pygments_lexer": "ipython3",
   "version": "3.6.2"
  }
 },
 "nbformat": 4,
 "nbformat_minor": 2
}
