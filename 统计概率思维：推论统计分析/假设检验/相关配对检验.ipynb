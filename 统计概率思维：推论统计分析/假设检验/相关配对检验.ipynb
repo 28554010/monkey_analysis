{
 "cells": [
  {
   "cell_type": "markdown",
   "metadata": {},
   "source": [
    "特鲁普效应是著名的心理学现象，展示了人们对事物的认知过程已是一个自动化的历程。当有一个新的刺激出现时，如果它的特征和原先的刺激相似或符合一致，便会加速人们的认知；反之，若新的刺激特征与原先的刺激不相同，则会干扰人们的认知，使人们的所需的反映数据变长。\n",
    "\n",
    "简单来说，斯特鲁普效应是当有与原有认知不同的情况出现时，人们的反应时间会较长。\n",
    "\n",
    "我们想要验证斯特鲁普效应。"
   ]
  },
  {
   "cell_type": "markdown",
   "metadata": {},
   "source": [
    " # 实验设计"
   ]
  },
  {
   "cell_type": "markdown",
   "metadata": {},
   "source": [
    "通过网上的stroop实验做测试人的反应时间（https://faculty.washington.edu/chudler/java/ready.html）。\n",
    "每名参与者得到两组有颜色的文字，第一组数据是字体内容和字体颜色一致，第二组数据是字体内容和字体颜色不一致。每名参与者对每组文字说出文字的颜色，并分别统计完成每组的时间。\n",
    "\n",
    "此次实验共记录24组数据（样本量），并汇总到Excel表格中。"
   ]
  },
  {
   "cell_type": "markdown",
   "metadata": {},
   "source": [
    "# 一、描述统计分析"
   ]
  },
  {
   "cell_type": "code",
   "execution_count": 1,
   "metadata": {},
   "outputs": [],
   "source": [
    "#导入包\n",
    "import numpy as np \n",
    "import pandas as pd\n",
    "import matplotlib.pyplot as plt"
   ]
  },
  {
   "cell_type": "code",
   "execution_count": 3,
   "metadata": {},
   "outputs": [
    {
     "data": {
      "text/html": [
       "<div>\n",
       "<style scoped>\n",
       "    .dataframe tbody tr th:only-of-type {\n",
       "        vertical-align: middle;\n",
       "    }\n",
       "\n",
       "    .dataframe tbody tr th {\n",
       "        vertical-align: top;\n",
       "    }\n",
       "\n",
       "    .dataframe thead th {\n",
       "        text-align: right;\n",
       "    }\n",
       "</style>\n",
       "<table border=\"1\" class=\"dataframe\">\n",
       "  <thead>\n",
       "    <tr style=\"text-align: right;\">\n",
       "      <th></th>\n",
       "      <th>Congruent</th>\n",
       "      <th>Incongruent</th>\n",
       "    </tr>\n",
       "  </thead>\n",
       "  <tbody>\n",
       "    <tr>\n",
       "      <th>0</th>\n",
       "      <td>12.079</td>\n",
       "      <td>19.278</td>\n",
       "    </tr>\n",
       "    <tr>\n",
       "      <th>1</th>\n",
       "      <td>16.791</td>\n",
       "      <td>18.741</td>\n",
       "    </tr>\n",
       "    <tr>\n",
       "      <th>2</th>\n",
       "      <td>9.564</td>\n",
       "      <td>21.214</td>\n",
       "    </tr>\n",
       "    <tr>\n",
       "      <th>3</th>\n",
       "      <td>8.630</td>\n",
       "      <td>15.687</td>\n",
       "    </tr>\n",
       "    <tr>\n",
       "      <th>4</th>\n",
       "      <td>14.669</td>\n",
       "      <td>22.803</td>\n",
       "    </tr>\n",
       "  </tbody>\n",
       "</table>\n",
       "</div>"
      ],
      "text/plain": [
       "   Congruent  Incongruent\n",
       "0     12.079       19.278\n",
       "1     16.791       18.741\n",
       "2      9.564       21.214\n",
       "3      8.630       15.687\n",
       "4     14.669       22.803"
      ]
     },
     "execution_count": 3,
     "metadata": {},
     "output_type": "execute_result"
    }
   ],
   "source": [
    "'''\n",
    "路径和文件名中不要用中文，不然会报错\n",
    "encoding用于指定文件的编码，因为读取的csv中有中文，所以指定文件编码为中文编码“GBK”\n",
    "'''\n",
    "data = pd.read_csv('斯特鲁普数据集.csv',\n",
    "                   encoding = 'GBK')\n",
    "data.head()"
   ]
  },
  {
   "cell_type": "markdown",
   "metadata": {},
   "source": [
    "观察数据结果：“一致”列是（第一组数据）字体内容和字体颜色一致情况下，实验者的反应时间（单位：秒）。“不一致”列是（第二组数据）字体内容和字体颜色不一致情况下，实验者的反应时间。"
   ]
  },
  {
   "cell_type": "code",
   "execution_count": 4,
   "metadata": {},
   "outputs": [
    {
     "data": {
      "text/html": [
       "<div>\n",
       "<style scoped>\n",
       "    .dataframe tbody tr th:only-of-type {\n",
       "        vertical-align: middle;\n",
       "    }\n",
       "\n",
       "    .dataframe tbody tr th {\n",
       "        vertical-align: top;\n",
       "    }\n",
       "\n",
       "    .dataframe thead th {\n",
       "        text-align: right;\n",
       "    }\n",
       "</style>\n",
       "<table border=\"1\" class=\"dataframe\">\n",
       "  <thead>\n",
       "    <tr style=\"text-align: right;\">\n",
       "      <th></th>\n",
       "      <th>Congruent</th>\n",
       "      <th>Incongruent</th>\n",
       "    </tr>\n",
       "  </thead>\n",
       "  <tbody>\n",
       "    <tr>\n",
       "      <th>count</th>\n",
       "      <td>24.000000</td>\n",
       "      <td>24.000000</td>\n",
       "    </tr>\n",
       "    <tr>\n",
       "      <th>mean</th>\n",
       "      <td>13.926875</td>\n",
       "      <td>22.350750</td>\n",
       "    </tr>\n",
       "    <tr>\n",
       "      <th>std</th>\n",
       "      <td>3.540219</td>\n",
       "      <td>5.010218</td>\n",
       "    </tr>\n",
       "    <tr>\n",
       "      <th>min</th>\n",
       "      <td>8.630000</td>\n",
       "      <td>15.687000</td>\n",
       "    </tr>\n",
       "    <tr>\n",
       "      <th>25%</th>\n",
       "      <td>11.895250</td>\n",
       "      <td>18.716750</td>\n",
       "    </tr>\n",
       "    <tr>\n",
       "      <th>50%</th>\n",
       "      <td>13.627500</td>\n",
       "      <td>21.046000</td>\n",
       "    </tr>\n",
       "    <tr>\n",
       "      <th>75%</th>\n",
       "      <td>15.671250</td>\n",
       "      <td>24.536000</td>\n",
       "    </tr>\n",
       "    <tr>\n",
       "      <th>max</th>\n",
       "      <td>22.328000</td>\n",
       "      <td>35.255000</td>\n",
       "    </tr>\n",
       "  </tbody>\n",
       "</table>\n",
       "</div>"
      ],
      "text/plain": [
       "       Congruent  Incongruent\n",
       "count  24.000000    24.000000\n",
       "mean   13.926875    22.350750\n",
       "std     3.540219     5.010218\n",
       "min     8.630000    15.687000\n",
       "25%    11.895250    18.716750\n",
       "50%    13.627500    21.046000\n",
       "75%    15.671250    24.536000\n",
       "max    22.328000    35.255000"
      ]
     },
     "execution_count": 4,
     "metadata": {},
     "output_type": "execute_result"
    }
   ],
   "source": [
    "#获取描述统计信息\n",
    "data.describe()"
   ]
  },
  {
   "cell_type": "code",
   "execution_count": 6,
   "metadata": {},
   "outputs": [],
   "source": [
    "'''\n",
    "第一组数据：字体内容和字体颜色一致情况下，实验者的反应时间\n",
    "'''\n",
    "#第一组数据均值\n",
    "con1_mean = data['Congruent'].mean()\n",
    "# 第一组数据标准差\n",
    "con1_std = data['Congruent'].std()\n",
    "\n",
    "'''\n",
    "第一组数据：字体内容和字体颜色一致情况下，实验者的反应时间\n",
    "'''\n",
    "# 第二组数据均值\n",
    "con2_mean = data['Incongruent'].mean()\n",
    "# 第二组数据标准差\n",
    "con2_std = data['Incongruent'].std()"
   ]
  },
  {
   "cell_type": "markdown",
   "metadata": {},
   "source": [
    "使用柱状图对两个样本数据进行比较"
   ]
  },
  {
   "cell_type": "code",
   "execution_count": 7,
   "metadata": {},
   "outputs": [
    {
     "data": {
      "image/png": "[encoded data removed]",
      "text/plain": [
       "<matplotlib.figure.Figure at 0x7f89d51d7128>"
      ]
     },
     "metadata": {},
     "output_type": "display_data"
    }
   ],
   "source": [
    "#两个样本数据集对比\n",
    "#画板\n",
    "fg = plt.figure(figsize = (20,10))\n",
    "#画纸\n",
    "ax = fg.add_subplot(1,1,1)\n",
    "#绘制柱状图\n",
    "data.plot(kind = 'bar',ax = ax)\n",
    "#显示图形\n",
    "plt.show()"
   ]
  },
  {
   "cell_type": "code",
   "execution_count": 8,
   "metadata": {},
   "outputs": [
    {
     "name": "stdout",
     "output_type": "stream",
     "text": [
      "描述统计分析结果：\n",
      "第一组数据：字体内容和字体颜色一致情况下，实验者的平均反应时间是: 13.926875 秒,标准差是 3.5402194271529703 秒\n",
      "第二组数据：字体内容和字体颜色不一致情况下，实验者的平均反应时间是: 22.350749999999994 秒,标准差是 5.010217727196399 秒\n",
      "“不一致”情况下所用时间均大于“一致”情况，也就是当字体内容和字体验证不一致时，实验者的平均反应时间变长\n"
     ]
    }
   ],
   "source": [
    "print('描述统计分析结果：')\n",
    "print('第一组数据：字体内容和字体颜色一致情况下，实验者的平均反应时间是:',con1_mean,'秒,标准差是',con1_std,'秒')\n",
    "print('第二组数据：字体内容和字体颜色不一致情况下，实验者的平均反应时间是:',con2_mean,'秒,标准差是',con2_std,'秒')\n",
    "print('“不一致”情况下所用时间均大于“一致”情况，也就是当字体内容和字体验证不一致时，实验者的平均反应时间变长')"
   ]
  },
  {
   "cell_type": "markdown",
   "metadata": {},
   "source": [
    "# 二、推论统计分析"
   ]
  },
  {
   "cell_type": "markdown",
   "metadata": {},
   "source": [
    "进行假设检验"
   ]
  },
  {
   "cell_type": "markdown",
   "metadata": {},
   "source": [
    "## 1.问题是什么？"
   ]
  },
  {
   "cell_type": "markdown",
   "metadata": {},
   "source": [
    "自变量是指原因。因变量是指结果，也就是自变量发生变化导致改变的值就是因变量。\n",
    "\n",
    "自变量：我们有两组实验数据，第一组是字体内容和颜色一致。第二组数据值是字体内容和颜色不一致。所以自变量是实验数据的颜色和文字是否相同\n",
    "\n",
    "因变量：实验者的反应时间\n",
    "\n",
    "所以，我们要考察的是自变量（字体内容和颜色是否相同）两种情况下对因变量（反应时间）的影响。"
   ]
  },
  {
   "cell_type": "markdown",
   "metadata": {},
   "source": [
    "### 零假设和备选假设"
   ]
  },
  {
   "cell_type": "markdown",
   "metadata": {},
   "source": [
    "假设第一组“一致”的均值为 u1  ,第二组“不一致”的均值为 u2\n",
    "\n",
    "零假设H0：人们的反应时间不会因为字体内容和字体颜色是否相同（u1 = u2 ，或者 u1-u2=0 ）\n",
    "\n",
    "备选假设H1：特鲁普效应确实存在。根据特鲁普效应的定义，颜色和文字不同的情况下，人们的完场测试的时间会变长（ u1 < u2 ）"
   ]
  },
  {
   "cell_type": "markdown",
   "metadata": {},
   "source": [
    "### 检验类型"
   ]
  },
  {
   "cell_type": "markdown",
   "metadata": {},
   "source": [
    "检验类型有很多种，因为该使用两组数据是相关样本，所以选择相关配对检验。\n",
    "\n",
    "相关配对检验只关注每对相关数据的差值，从而避免得到的结论受到参与人员间正常反应时间独立性的影响。在只关注差值集的情况下，样本集处理后只有一组（差值集）。下面我们对样本数据进行处理，从而得到差值集。"
   ]
  },
  {
   "cell_type": "code",
   "execution_count": 10,
   "metadata": {},
   "outputs": [
    {
     "data": {
      "text/html": [
       "<div>\n",
       "<style scoped>\n",
       "    .dataframe tbody tr th:only-of-type {\n",
       "        vertical-align: middle;\n",
       "    }\n",
       "\n",
       "    .dataframe tbody tr th {\n",
       "        vertical-align: top;\n",
       "    }\n",
       "\n",
       "    .dataframe thead th {\n",
       "        text-align: right;\n",
       "    }\n",
       "</style>\n",
       "<table border=\"1\" class=\"dataframe\">\n",
       "  <thead>\n",
       "    <tr style=\"text-align: right;\">\n",
       "      <th></th>\n",
       "      <th>Congruent</th>\n",
       "      <th>Incongruent</th>\n",
       "      <th>差值</th>\n",
       "    </tr>\n",
       "  </thead>\n",
       "  <tbody>\n",
       "    <tr>\n",
       "      <th>0</th>\n",
       "      <td>12.079</td>\n",
       "      <td>19.278</td>\n",
       "      <td>-7.199</td>\n",
       "    </tr>\n",
       "    <tr>\n",
       "      <th>1</th>\n",
       "      <td>16.791</td>\n",
       "      <td>18.741</td>\n",
       "      <td>-1.950</td>\n",
       "    </tr>\n",
       "    <tr>\n",
       "      <th>2</th>\n",
       "      <td>9.564</td>\n",
       "      <td>21.214</td>\n",
       "      <td>-11.650</td>\n",
       "    </tr>\n",
       "    <tr>\n",
       "      <th>3</th>\n",
       "      <td>8.630</td>\n",
       "      <td>15.687</td>\n",
       "      <td>-7.057</td>\n",
       "    </tr>\n",
       "    <tr>\n",
       "      <th>4</th>\n",
       "      <td>14.669</td>\n",
       "      <td>22.803</td>\n",
       "      <td>-8.134</td>\n",
       "    </tr>\n",
       "  </tbody>\n",
       "</table>\n",
       "</div>"
      ],
      "text/plain": [
       "   Congruent  Incongruent      差值\n",
       "0     12.079       19.278  -7.199\n",
       "1     16.791       18.741  -1.950\n",
       "2      9.564       21.214 -11.650\n",
       "3      8.630       15.687  -7.057\n",
       "4     14.669       22.803  -8.134"
      ]
     },
     "execution_count": 10,
     "metadata": {},
     "output_type": "execute_result"
    }
   ],
   "source": [
    "'''\n",
    "获取差值数据集，也就是“一致”这一列数据，对应减去“不一致”这一列的数据\n",
    "'''\n",
    "#差值数据集\n",
    "data['差值'] =data['Congruent'] -data['Incongruent']\n",
    "data.head()"
   ]
  },
  {
   "cell_type": "markdown",
   "metadata": {},
   "source": [
    "### 抽样分布类型"
   ]
  },
  {
   "cell_type": "markdown",
   "metadata": {},
   "source": [
    "我们还要判断抽样分布是哪种？因为抽样分布的类型，决定了后面计算p值的不同。\n",
    "\n",
    "在我们这个案例中，样本大小是25（小于30），属于小样本。那小样本的抽样分布是否满足t分布呢？因为t分布还要求数据集近似正态分布，所以下面图片我们看下差值数据集的分布长什么样。"
   ]
  },
  {
   "cell_type": "code",
   "execution_count": 11,
   "metadata": {},
   "outputs": [
    {
     "data": {
      "image/png": "[encoded data removed]",
      "text/plain": [
       "<matplotlib.figure.Figure at 0x7f89d30da940>"
      ]
     },
     "metadata": {},
     "output_type": "display_data"
    }
   ],
   "source": [
    "'''\n",
    "直方图能够粗略估计数据密度，如果想给数据一个更精确的拟合曲线（专业术语叫：核密度估计kernel density estimate (KDE)），\n",
    "Seaborn 可以很方便的画出直方图和拟合曲线。\n",
    "查看数据集分布官网教程地址：https://seaborn.pydata.org/tutorial/distributions.html\n",
    "\n",
    "安装绘图包seaborn：\n",
    "conda install seaborn\n",
    "'''\n",
    "#导入绘图包\n",
    "import seaborn as sns\n",
    "#查看数据集分布\n",
    "sns.distplot(data['差值'])\n",
    "plt.title('差值数据集分布')\n",
    "plt.show()"
   ]
  },
  {
   "cell_type": "markdown",
   "metadata": {},
   "source": [
    "通过观察上面差值数据集分布图，数据集近似正态分布，所以满足t分布的使用条件，我们可以使用相关样本t检验。"
   ]
  },
  {
   "cell_type": "markdown",
   "metadata": {},
   "source": [
    "### 检验方向\n",
    "\n",
    "单尾检验（左尾，右尾），还是双尾检验？"
   ]
  },
  {
   "cell_type": "markdown",
   "metadata": {},
   "source": [
    "因为备选假设是：特鲁普效应确实存在，根据Stroop Effect的定义，颜色和文字不同的情况下，人们的完场测试的时间会变长（ u1 < u2 ）。\n",
    "\n",
    "所以我们使用单尾检验中的左尾检验，显著水平为5%，t检验的自由度df=n-1=25-1=24"
   ]
  },
  {
   "cell_type": "markdown",
   "metadata": {},
   "source": [
    "## 2.证据是什么？"
   ]
  },
  {
   "cell_type": "markdown",
   "metadata": {},
   "source": [
    "在零假设成立前提下，得到样本平均值的概率p是多少？"
   ]
  },
  {
   "cell_type": "code",
   "execution_count": 12,
   "metadata": {},
   "outputs": [
    {
     "name": "stdout",
     "output_type": "stream",
     "text": [
      "t值= -8.088610872807587 双尾检验的p值= 3.548719149724915e-08\n"
     ]
    }
   ],
   "source": [
    "'''\n",
    "用python统计包scipy自动计算\n",
    "用scipy计算出的是：双尾检验\n",
    "单（1samp）样本t检验（ttest_1samp）：https://docs.scipy.org/doc/scipy/reference/generated/scipy.stats.ttest_1samp.html\n",
    "相关（related）配对t检验（ttest_rel）：https://docs.scipy.org/doc/scipy/reference/generated/scipy.stats.ttest_rel.html\n",
    "双独立（independent）样本t检验（ttest_ind）：https://docs.scipy.org/doc/scipy/reference/generated/scipy.stats.ttest_ind.html\n",
    "'''\n",
    "#导入统计模块（stats）\n",
    "from scipy import stats\n",
    "\n",
    "'''\n",
    "ttest_rel：相关配对检验\n",
    "返回的第1个值t是假设检验计算出的（t值），\n",
    "第2个值p是双尾检验的p值\n",
    "'''\n",
    "t,p_twoTail = stats.ttest_rel(data['Congruent'],data['Incongruent'])\n",
    "\n",
    "print('t值=',t,'双尾检验的p值=',p_twoTail) "
   ]
  },
  {
   "cell_type": "code",
   "execution_count": 13,
   "metadata": {},
   "outputs": [
    {
     "name": "stdout",
     "output_type": "stream",
     "text": [
      "单尾检验的p值= 1.7743595748624577e-08\n"
     ]
    }
   ],
   "source": [
    "'''\n",
    "因为scipy计算出的是双尾检验的t值和p值，但是我们这里是左尾检验。\n",
    "根据对称性，双尾的p值是对应单尾p值的2倍\n",
    "'''\n",
    "#单尾检验的p值\n",
    "p_oneTail=p_twoTail/2\n",
    "print('单尾检验的p值=',p_oneTail)"
   ]
  },
  {
   "cell_type": "markdown",
   "metadata": {},
   "source": [
    "## 3.判断标准是什么？"
   ]
  },
  {
   "cell_type": "code",
   "execution_count": 14,
   "metadata": {},
   "outputs": [],
   "source": [
    "#显著水平使用alpha=5%\n",
    "alpha=0.05"
   ]
  },
  {
   "cell_type": "markdown",
   "metadata": {},
   "source": [
    "## 4.做出结论"
   ]
  },
  {
   "cell_type": "code",
   "execution_count": 15,
   "metadata": {},
   "outputs": [
    {
     "name": "stdout",
     "output_type": "stream",
     "text": [
      "拒绝零假设，有统计显著\n",
      "也就是接受备选假设：特鲁普效应存在\n"
     ]
    }
   ],
   "source": [
    "'''\n",
    "因为scipy计算出的是双尾检验的t值和p值，但是我们这里是左尾检验。\n",
    "根据对称性，双尾的p值是对应单尾p值的2倍\n",
    "左尾判断条件：t < 0 and  p/2 < alpha\n",
    "右尾判断条件：t > 0 and  p/2 < alpha\n",
    "'''\n",
    "#单尾检验的p值\n",
    "p_oneTail=p_twoTail/2\n",
    "#显著水平\n",
    "a=0.05\n",
    "#决策\n",
    "if(t<0 and p_oneTail< a):\n",
    "    print('拒绝零假设，有统计显著')\n",
    "    print('也就是接受备选假设：特鲁普效应存在')\n",
    "else:\n",
    "    print('接受备选假设，没有统计显著，也就是特鲁普效应不存在')"
   ]
  },
  {
   "cell_type": "markdown",
   "metadata": {},
   "source": [
    "假设检验报告：\n",
    "\n",
    "相关配对检验t(24)=-8.08,p=1.77e-08 (α=5%),左尾检验\n",
    "\n",
    "统计上存在显著差异，拒绝零假设，从而验证斯特鲁普效应存在。"
   ]
  },
  {
   "cell_type": "markdown",
   "metadata": {},
   "source": [
    "## 5. 置信区间"
   ]
  },
  {
   "cell_type": "code",
   "execution_count": 16,
   "metadata": {},
   "outputs": [],
   "source": [
    "'''\n",
    "1）置信水平对应的t值（t_ci）\n",
    "查t表格可以得到，95%的置信水平对应的t值=2.262\n",
    "2）计算上下限\n",
    "置信区间上限a=样本平均值 - t_ci ×标准误差\n",
    "置信区间下限b=样本平均值 - t_ci ×标准误差\n",
    "'''\n",
    "\n",
    "'''\n",
    "95%的置信水平，自由度是n-1对应的t值\n",
    "查找t表格获取，\n",
    "也可以通过这个工具获取：https://www.graphpad.com/quickcalcs/statratio1/（利用这个工具获取t值，需要注意输入的概率值是1-95%=0.05）\n",
    "注意：课程中这里对应的下面t_ci值有误，以下面的值为准\n",
    "'''\n",
    "t_ci=2.064\n",
    "#差值数据集平均值\n",
    "sample_mean=data['差值'].mean()\n",
    "#使用scipy计算标准误差\n",
    "se=stats.sem(data['差值'])\n",
    "#置信区间上限\n",
    "a=sample_mean - t_ci * se\n",
    "#置信区间下限\n",
    "b=sample_mean + t_ci * se\n",
    "\n",
    "\n",
    "#标准误差:https://docs.scipy.org/doc/scipy-0.14.0/reference/generated/scipy.stats.sem.html"
   ]
  },
  {
   "cell_type": "code",
   "execution_count": 17,
   "metadata": {},
   "outputs": [
    {
     "name": "stdout",
     "output_type": "stream",
     "text": [
      "两个平均值差值的置信区间，95置信水平 CI=[-10.573426,-6.274324]\n"
     ]
    }
   ],
   "source": [
    "print('两个平均值差值的置信区间，95置信水平 CI=[%f,%f]' % (a,b))"
   ]
  },
  {
   "cell_type": "markdown",
   "metadata": {
    "collapsed": true
   },
   "source": [
    "## 6.效应量"
   ]
  },
  {
   "cell_type": "code",
   "execution_count": 18,
   "metadata": {},
   "outputs": [
    {
     "name": "stdout",
     "output_type": "stream",
     "text": [
      "d= -1.6510807805255563\n"
     ]
    }
   ],
   "source": [
    "'''\n",
    "效应量：差异指标Cohen's d\n",
    "'''\n",
    "#差值数据集对应的总体平均值是0\n",
    "pop_mean=0\n",
    "#差值数据集的标准差\n",
    "sample_std=data['差值'].std()\n",
    "d=(sample_mean - pop_mean) / sample_std\n",
    "\n",
    "print('d=',d)"
   ]
  },
  {
   "cell_type": "markdown",
   "metadata": {},
   "source": [
    "# 三、数据分析报告总结"
   ]
  },
  {
   "cell_type": "markdown",
   "metadata": {
    "collapsed": true
   },
   "source": [
    "1、描述统计分析\n",
    "\n",
    "第一组样本数据：字体内容和字体颜色一致情况下，平均反应时间是: 13.89 秒,标准差是 3.47 秒\n",
    "\n",
    "第二组样本数据：字体内容和字体颜色不一致情况下，平均反应时间是: 22.62 秒,标准差是 5.09 秒\n",
    "\n",
    "“不一致”情况下所用时间均大于“一致”情况，也就是当字体内容和字体验证不一致时，实验者的平均反应时间变长\n",
    "\n",
    "2、推论统计分析\n",
    "\n",
    "1）假设检验\n",
    "\n",
    "相关配对检验t(24)=-8.35,p=7.32e-09 (α=5%),左尾检验\n",
    "\n",
    "统计上存在显著差异，拒绝零假设，从而验证斯特鲁普效应存在。\n",
    "\n",
    "\n",
    "2）置信区间\n",
    "\n",
    "两个平均值差值的置信区间，95%置信水平 CI=[-8.80,-8.67]\n",
    "\n",
    "3）效应量\n",
    "\n",
    "d= - 1.67"
   ]
  },
  {
   "cell_type": "code",
   "execution_count": null,
   "metadata": {
    "collapsed": true
   },
   "outputs": [],
   "source": []
  }
 ],
 "metadata": {
  "kernelspec": {
   "display_name": "Python 3",
   "language": "python",
   "name": "python3"
  },
  "language_info": {
   "codemirror_mode": {
    "name": "ipython",
    "version": 3
   },
   "file_extension": ".py",
   "mimetype": "text/x-python",
   "name": "python",
   "nbconvert_exporter": "python",
   "pygments_lexer": "ipython3",
   "version": "3.6.2"
  }
 },
 "nbformat": 4,
 "nbformat_minor": 2
}
