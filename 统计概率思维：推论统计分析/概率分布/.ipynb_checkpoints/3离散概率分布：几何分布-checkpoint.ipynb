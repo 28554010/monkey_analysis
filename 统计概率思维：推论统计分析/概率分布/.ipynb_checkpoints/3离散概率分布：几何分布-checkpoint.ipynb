{
 "cells": [
  {
   "cell_type": "markdown",
   "metadata": {},
   "source": [
    "# 几何分布（Geometric Distribution）"
   ]
  },
  {
   "cell_type": "markdown",
   "metadata": {},
   "source": [
    "需要先在当前notebook所在的环境下安装科学计算包scipy。如果已安装忽略下面安装步骤。\n",
    "\n",
    "安装步骤：\n",
    "\n",
    "1)在conda中先进入python环境：activate py3\n",
    "\n",
    "2)在conda中运行以下命令：conda install scipy\n",
    "\n",
    "如果还没有安装numpy包和matplotlib包，也按上述命令安装这些包"
   ]
  },
  {
   "cell_type": "code",
   "execution_count": 1,
   "metadata": {},
   "outputs": [],
   "source": [
    "#导入包\n",
    "#数组包\n",
    "import numpy as np\n",
    "#绘图包\n",
    "import matplotlib.pyplot as plt\n",
    "#统计计算包的统计模块\n",
    "from scipy import stats"
   ]
  },
  {
   "cell_type": "code",
   "execution_count": 2,
   "metadata": {},
   "outputs": [
    {
     "data": {
      "text/plain": [
       "array([1, 2, 3, 4, 5])"
      ]
     },
     "execution_count": 2,
     "metadata": {},
     "output_type": "execute_result"
    }
   ],
   "source": [
    "'''\n",
    "arange用于生成一个等差数组，arange([start, ]stop, [step, ]\n",
    "使用见文档：https://docs.scipy.org/doc/numpy/reference/generated/numpy.arange.html\n",
    "'''\n",
    "\n",
    "'''\n",
    "第1步，定义随机变量：\n",
    "首次表白成功的次数，可能是1次，2次，3次等\n",
    "\n",
    "'''\n",
    "#第k次做某件事情，才取到第1次成功\n",
    "#这里我们想知道5次表白成功的概率\n",
    "k = 5   \n",
    "# 做某件事情成功的概率，这里假设每次表白成功概率都是60%\n",
    "p = 0.6 \n",
    "X = np.arange(1, k+1,1)\n",
    "X"
   ]
  },
  {
   "cell_type": "code",
   "execution_count": 3,
   "metadata": {},
   "outputs": [
    {
     "data": {
      "text/plain": [
       "array([0.6    , 0.24   , 0.096  , 0.0384 , 0.01536])"
      ]
     },
     "execution_count": 3,
     "metadata": {},
     "output_type": "execute_result"
    }
   ],
   "source": [
    "'''\n",
    "几何分布官方使用文档：\n",
    "https://docs.scipy.org/doc/scipy/reference/generated/scipy.stats.geom.html#scipy.stats.geom\n",
    "'''\n",
    "#第2步，#求对应分布的概率:概率质量函数 (PMF)\n",
    "#它返回一个列表，列表中每个元素表示随机变量中对应值的概率\n",
    "#分别表示表白第1次才成功的概率，表白第2次才成功的概率，表白第3次才成功的概率，表白第4次才成功的概率，表白第5次才成功的概率\n",
    "pList = stats.geom.pmf(X,p)\n",
    "pList"
   ]
  },
  {
   "cell_type": "code",
   "execution_count": 4,
   "metadata": {},
   "outputs": [
    {
     "data": {
      "image/png": "[encoded data removed]",
      "text/plain": [
       "<matplotlib.figure.Figure at 0x7f2fa9f8e080>"
      ]
     },
     "metadata": {},
     "output_type": "display_data"
    }
   ],
   "source": [
    "#第3步，绘图\n",
    "'''\n",
    "plot默认绘制折线，这里我们只绘制点，所以传入下面的参数：\n",
    "marker：点的形状，值o表示点为圆圈标记（circle marker）\n",
    "linestyle：线条的形状，值None表示不显示连接各个点的折线\n",
    "'''\n",
    "plt.plot(X, pList, marker='o',linestyle='None')\n",
    "'''\n",
    "vlines用于绘制竖直线(vertical lines),\n",
    "参数说明：vline(x坐标值, y坐标最小值, y坐标值最大值)\n",
    "我们传入的X是一个数组，是给数组中的每个x坐标值绘制竖直线，\n",
    "竖直线y坐标最小值是0，y坐标值最大值是对应pList中的值\n",
    "官网文档：https://matplotlib.org/api/pyplot_api.html#matplotlib.pyplot.vlines\n",
    "'''\n",
    "plt.vlines(X, 0, pList)\n",
    "#x轴文本\n",
    "plt.xlabel('随机变量：表白第k次才首次成功')\n",
    "#y轴文本\n",
    "plt.ylabel('概率')\n",
    "#标题\n",
    "plt.title('几何分布：p=%.2f' % p)\n",
    "#显示图形\n",
    "plt.show()"
   ]
  },
  {
   "cell_type": "code",
   "execution_count": null,
   "metadata": {},
   "outputs": [],
   "source": []
  }
 ],
 "metadata": {
  "kernelspec": {
   "display_name": "Python 3",
   "language": "python",
   "name": "python3"
  },
  "language_info": {
   "codemirror_mode": {
    "name": "ipython",
    "version": 3
   },
   "file_extension": ".py",
   "mimetype": "text/x-python",
   "name": "python",
   "nbconvert_exporter": "python",
   "pygments_lexer": "ipython3",
   "version": "3.6.2"
  }
 },
 "nbformat": 4,
 "nbformat_minor": 2
}
