{
 "cells": [
  {
   "cell_type": "markdown",
   "metadata": {},
   "source": [
    "# 正态分布（Normal Distribution）"
   ]
  },
  {
   "cell_type": "markdown",
   "metadata": {},
   "source": [
    "需要先在当前notebook所在的环境下安装科学计算包scipy。如果已安装忽略下面安装步骤。\n",
    "\n",
    "安装步骤：\n",
    "\n",
    "1)在conda中先进入python环境：activate py3\n",
    "\n",
    "2)在conda中运行以下命令：conda install scipy\n",
    "\n",
    "如果还没有安装numpy包和matplotlib包，也按上述命令安装这些包"
   ]
  },
  {
   "cell_type": "code",
   "execution_count": 1,
   "metadata": {},
   "outputs": [],
   "source": [
    "#导入包\n",
    "#数组包\n",
    "import numpy as np\n",
    "#绘图包\n",
    "import matplotlib.pyplot as plt\n",
    "#统计计算包的统计模块\n",
    "from scipy import stats"
   ]
  },
  {
   "cell_type": "code",
   "execution_count": 2,
   "metadata": {},
   "outputs": [
    {
     "data": {
      "text/plain": [
       "array([-5.00000000e+00, -4.90000000e+00, -4.80000000e+00, -4.70000000e+00,\n",
       "       -4.60000000e+00, -4.50000000e+00, -4.40000000e+00, -4.30000000e+00,\n",
       "       -4.20000000e+00, -4.10000000e+00, -4.00000000e+00, -3.90000000e+00,\n",
       "       -3.80000000e+00, -3.70000000e+00, -3.60000000e+00, -3.50000000e+00,\n",
       "       -3.40000000e+00, -3.30000000e+00, -3.20000000e+00, -3.10000000e+00,\n",
       "       -3.00000000e+00, -2.90000000e+00, -2.80000000e+00, -2.70000000e+00,\n",
       "       -2.60000000e+00, -2.50000000e+00, -2.40000000e+00, -2.30000000e+00,\n",
       "       -2.20000000e+00, -2.10000000e+00, -2.00000000e+00, -1.90000000e+00,\n",
       "       -1.80000000e+00, -1.70000000e+00, -1.60000000e+00, -1.50000000e+00,\n",
       "       -1.40000000e+00, -1.30000000e+00, -1.20000000e+00, -1.10000000e+00,\n",
       "       -1.00000000e+00, -9.00000000e-01, -8.00000000e-01, -7.00000000e-01,\n",
       "       -6.00000000e-01, -5.00000000e-01, -4.00000000e-01, -3.00000000e-01,\n",
       "       -2.00000000e-01, -1.00000000e-01, -1.77635684e-14,  1.00000000e-01,\n",
       "        2.00000000e-01,  3.00000000e-01,  4.00000000e-01,  5.00000000e-01,\n",
       "        6.00000000e-01,  7.00000000e-01,  8.00000000e-01,  9.00000000e-01,\n",
       "        1.00000000e+00,  1.10000000e+00,  1.20000000e+00,  1.30000000e+00,\n",
       "        1.40000000e+00,  1.50000000e+00,  1.60000000e+00,  1.70000000e+00,\n",
       "        1.80000000e+00,  1.90000000e+00,  2.00000000e+00,  2.10000000e+00,\n",
       "        2.20000000e+00,  2.30000000e+00,  2.40000000e+00,  2.50000000e+00,\n",
       "        2.60000000e+00,  2.70000000e+00,  2.80000000e+00,  2.90000000e+00,\n",
       "        3.00000000e+00,  3.10000000e+00,  3.20000000e+00,  3.30000000e+00,\n",
       "        3.40000000e+00,  3.50000000e+00,  3.60000000e+00,  3.70000000e+00,\n",
       "        3.80000000e+00,  3.90000000e+00,  4.00000000e+00,  4.10000000e+00,\n",
       "        4.20000000e+00,  4.30000000e+00,  4.40000000e+00,  4.50000000e+00,\n",
       "        4.60000000e+00,  4.70000000e+00,  4.80000000e+00,  4.90000000e+00])"
      ]
     },
     "execution_count": 2,
     "metadata": {},
     "output_type": "execute_result"
    }
   ],
   "source": [
    "'''\n",
    "arange用于生成一个等差数组，arange([start, ]stop, [step, ]\n",
    "使用见文档：https://docs.scipy.org/doc/numpy/reference/generated/numpy.arange.html\n",
    "'''\n",
    "\n",
    "'''\n",
    "第1步，定义随机变量：\n",
    "\n",
    "'''\n",
    "mu=0 #平均值\n",
    "sigma= 1 #标准差\n",
    "X = np.arange(-5, 5,0.1)\n",
    "X"
   ]
  },
  {
   "cell_type": "code",
   "execution_count": 3,
   "metadata": {},
   "outputs": [],
   "source": [
    "#第2步，概率密度函数（PDF）\n",
    "y=stats.norm.pdf(X,mu,sigma)"
   ]
  },
  {
   "cell_type": "code",
   "execution_count": 4,
   "metadata": {},
   "outputs": [
    {
     "data": {
      "image/png": "[encoded data removed]",
      "text/plain": [
       "<matplotlib.figure.Figure at 0x7f5923fc8fd0>"
      ]
     },
     "metadata": {},
     "output_type": "display_data"
    }
   ],
   "source": [
    "#第3步，绘图\n",
    "'''\n",
    "plot默认绘制折线\n",
    "'''\n",
    "plt.plot(X, y)\n",
    "#x轴文本\n",
    "plt.xlabel('随机变量：x')\n",
    "#y轴文本\n",
    "plt.ylabel('概率：y')\n",
    "#标题\n",
    "plt.title('正态分布：$\\mu$=%.1f,$\\sigma^2$=%.1f' % (mu,sigma))\n",
    "#网格\n",
    "plt.grid()\n",
    "#显示图形\n",
    "plt.show()"
   ]
  },
  {
   "cell_type": "code",
   "execution_count": null,
   "metadata": {
    "collapsed": true
   },
   "outputs": [],
   "source": []
  }
 ],
 "metadata": {
  "kernelspec": {
   "display_name": "Python 3",
   "language": "python",
   "name": "python3"
  },
  "language_info": {
   "codemirror_mode": {
    "name": "ipython",
    "version": 3
   },
   "file_extension": ".py",
   "mimetype": "text/x-python",
   "name": "python",
   "nbconvert_exporter": "python",
   "pygments_lexer": "ipython3",
   "version": "3.6.2"
  }
 },
 "nbformat": 4,
 "nbformat_minor": 2
}
