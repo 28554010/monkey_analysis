{
 "cells": [
  {
   "cell_type": "markdown",
   "metadata": {},
   "source": [
    "## 简单线性回归"
   ]
  },
  {
   "cell_type": "markdown",
   "metadata": {},
   "source": [
    "需要先使用conda命令安装机器学习包：sklearn，安装命令：\n",
    "conda install scikit-learn"
   ]
  },
  {
   "cell_type": "code",
   "execution_count": 41,
   "metadata": {},
   "outputs": [],
   "source": [
    "from collections import OrderedDict\n",
    "import pandas as pd"
   ]
  },
  {
   "cell_type": "code",
   "execution_count": 42,
   "metadata": {},
   "outputs": [],
   "source": [
    "#数据集\n",
    "examDict={\n",
    "    '学习时间':[0.50,0.75,1.00,1.25,1.50,1.75,1.75,2.00,2.25,\n",
    "            2.50,2.75,3.00,3.25,3.50,4.00,4.25,4.50,4.75,5.00,5.50],\n",
    "    '分数':    [10,  22,  13,  43,  20,  22,  33,  50,  62,  \n",
    "              48,  55,  75,  62,  73,  81,  76,  64,  82,  90,  93]\n",
    "}\n",
    "examOrderDict=OrderedDict(examDict)\n",
    "examDf=pd.DataFrame(examOrderDict)"
   ]
  },
  {
   "cell_type": "code",
   "execution_count": 43,
   "metadata": {},
   "outputs": [
    {
     "data": {
      "text/html": [
       "<div>\n",
       "<style scoped>\n",
       "    .dataframe tbody tr th:only-of-type {\n",
       "        vertical-align: middle;\n",
       "    }\n",
       "\n",
       "    .dataframe tbody tr th {\n",
       "        vertical-align: top;\n",
       "    }\n",
       "\n",
       "    .dataframe thead th {\n",
       "        text-align: right;\n",
       "    }\n",
       "</style>\n",
       "<table border=\"1\" class=\"dataframe\">\n",
       "  <thead>\n",
       "    <tr style=\"text-align: right;\">\n",
       "      <th></th>\n",
       "      <th>学习时间</th>\n",
       "      <th>分数</th>\n",
       "    </tr>\n",
       "  </thead>\n",
       "  <tbody>\n",
       "    <tr>\n",
       "      <th>0</th>\n",
       "      <td>0.50</td>\n",
       "      <td>10</td>\n",
       "    </tr>\n",
       "    <tr>\n",
       "      <th>1</th>\n",
       "      <td>0.75</td>\n",
       "      <td>22</td>\n",
       "    </tr>\n",
       "    <tr>\n",
       "      <th>2</th>\n",
       "      <td>1.00</td>\n",
       "      <td>13</td>\n",
       "    </tr>\n",
       "    <tr>\n",
       "      <th>3</th>\n",
       "      <td>1.25</td>\n",
       "      <td>43</td>\n",
       "    </tr>\n",
       "    <tr>\n",
       "      <th>4</th>\n",
       "      <td>1.50</td>\n",
       "      <td>20</td>\n",
       "    </tr>\n",
       "  </tbody>\n",
       "</table>\n",
       "</div>"
      ],
      "text/plain": [
       "   学习时间  分数\n",
       "0  0.50  10\n",
       "1  0.75  22\n",
       "2  1.00  13\n",
       "3  1.25  43\n",
       "4  1.50  20"
      ]
     },
     "execution_count": 43,
     "metadata": {},
     "output_type": "execute_result"
    }
   ],
   "source": [
    "examDf.head()"
   ]
  },
  {
   "cell_type": "code",
   "execution_count": 44,
   "metadata": {},
   "outputs": [],
   "source": [
    "#提取特征和标签\n",
    "#特征features\n",
    "exam_X=examDf.loc[:,'学习时间']\n",
    "#标签labes\n",
    "exam_y=examDf.loc[:,'分数']"
   ]
  },
  {
   "cell_type": "code",
   "execution_count": 45,
   "metadata": {},
   "outputs": [
    {
     "data": {
      "image/png": "[encoded data removed]",
      "text/plain": [
       "<matplotlib.figure.Figure at 0x7f3ff62317b8>"
      ]
     },
     "metadata": {},
     "output_type": "display_data"
    }
   ],
   "source": [
    "#绘制散点图\n",
    "import matplotlib.pyplot as plt\n",
    "\n",
    "#散点图\n",
    "plt.scatter(exam_X, exam_y, color=\"b\", label=\"exam data\")\n",
    "\n",
    "#添加图标标签\n",
    "plt.xlabel(\"Hours\")\n",
    "plt.ylabel(\"Score\")\n",
    "#显示图像\n",
    "plt.show()"
   ]
  },
  {
   "cell_type": "code",
   "execution_count": 46,
   "metadata": {},
   "outputs": [
    {
     "name": "stdout",
     "output_type": "stream",
     "text": [
      "原始数据特征： (20,) ，训练数据特征： (16,) ，测试数据特征： (4,)\n",
      "原始数据标签： (20,) 训练数据标签： (16,) 测试数据标签： (4,)\n"
     ]
    },
    {
     "name": "stderr",
     "output_type": "stream",
     "text": [
      "/root/.pyenv/versions/3.6.2/lib/python3.6/site-packages/sklearn/model_selection/_split.py:2026: FutureWarning: From version 0.21, test_size will always complement train_size unless both are specified.\n",
      "  FutureWarning)\n"
     ]
    }
   ],
   "source": [
    "'''\n",
    "train_test_split是交叉验证中常用的函数，功能是从样本中随机的按比例选取训练数据（train）和测试数据（test）\n",
    "第一个参数：所要划分的样本特征\n",
    "第2个参数：所要划分的样本标签\n",
    "train_size：训练数据占比，如果是整数的话就是样本的数量\n",
    "'''\n",
    "\n",
    "#from sklearn.cross_validation import train_test_split\n",
    "from sklearn.model_selection import train_test_split\n",
    "#建立训练数据和测试数据\n",
    "X_train , X_test , y_train , y_test = train_test_split(exam_X ,\n",
    "                                                       exam_y ,\n",
    "                                                       train_size = .8)\n",
    "#输出数据大小\n",
    "print('原始数据特征：',exam_X.shape ,\n",
    "      '，训练数据特征：', X_train.shape , \n",
    "      '，测试数据特征：',X_test.shape )\n",
    "\n",
    "print('原始数据标签：',exam_y.shape ,\n",
    "      '训练数据标签：', y_train.shape ,\n",
    "      '测试数据标签：' ,y_test.shape)"
   ]
  },
  {
   "cell_type": "markdown",
   "metadata": {},
   "source": [
    "### !注意：\n",
    "cross_validation模块将在0.20中删除  \n",
    "解决办法：将“from sklearn.cross_validation import train_test_split” 改为“from sklearn.model_selection import train_test_split” "
   ]
  },
  {
   "cell_type": "code",
   "execution_count": 47,
   "metadata": {},
   "outputs": [
    {
     "data": {
      "image/png": "[encoded data removed]",
      "text/plain": [
       "<matplotlib.figure.Figure at 0x7f3ff6390128>"
      ]
     },
     "metadata": {},
     "output_type": "display_data"
    }
   ],
   "source": [
    "#绘制散点图\n",
    "import matplotlib.pyplot as plt\n",
    "\n",
    "#散点图\n",
    "plt.scatter(X_train, y_train, color=\"blue\", label=\"train data\")\n",
    "plt.scatter(X_test, y_test, color=\"red\", label=\"test data\")\n",
    "\n",
    "#添加图标标签\n",
    "plt.legend(loc=2)\n",
    "plt.xlabel(\"Hours\")\n",
    "plt.ylabel(\"Pass\")\n",
    "#显示图像\n",
    "plt.show()"
   ]
  },
  {
   "cell_type": "code",
   "execution_count": 48,
   "metadata": {},
   "outputs": [
    {
     "ename": "ValueError",
     "evalue": "Expected 2D array, got 1D array instead:\narray=[0.5  3.5  2.5  1.75 1.25 4.25 1.   5.5  4.5  4.   3.   3.25 2.25 2.\n 2.75 1.5 ].\nReshape your data either using array.reshape(-1, 1) if your data has a single feature or array.reshape(1, -1) if it contains a single sample.",
     "output_type": "error",
     "traceback": [
      "\u001b[0;31m---------------------------------------------------------------------------\u001b[0m",
      "\u001b[0;31mValueError\u001b[0m                                Traceback (most recent call last)",
      "\u001b[0;32m<ipython-input-48-eaf5488f4a50>\u001b[0m in \u001b[0;36m<module>\u001b[0;34m()\u001b[0m\n\u001b[1;32m      7\u001b[0m \u001b[0mmodel\u001b[0m \u001b[0;34m=\u001b[0m \u001b[0mLinearRegression\u001b[0m\u001b[0;34m(\u001b[0m\u001b[0;34m)\u001b[0m\u001b[0;34m\u001b[0m\u001b[0m\n\u001b[1;32m      8\u001b[0m \u001b[0;31m#第3步：训练模型\u001b[0m\u001b[0;34m\u001b[0m\u001b[0;34m\u001b[0m\u001b[0m\n\u001b[0;32m----> 9\u001b[0;31m \u001b[0mmodel\u001b[0m\u001b[0;34m.\u001b[0m\u001b[0mfit\u001b[0m\u001b[0;34m(\u001b[0m\u001b[0mX_train\u001b[0m \u001b[0;34m,\u001b[0m \u001b[0my_train\u001b[0m\u001b[0;34m)\u001b[0m\u001b[0;34m\u001b[0m\u001b[0m\n\u001b[0m",
      "\u001b[0;32m~/.pyenv/versions/3.6.2/lib/python3.6/site-packages/sklearn/linear_model/base.py\u001b[0m in \u001b[0;36mfit\u001b[0;34m(self, X, y, sample_weight)\u001b[0m\n\u001b[1;32m    480\u001b[0m         \u001b[0mn_jobs_\u001b[0m \u001b[0;34m=\u001b[0m \u001b[0mself\u001b[0m\u001b[0;34m.\u001b[0m\u001b[0mn_jobs\u001b[0m\u001b[0;34m\u001b[0m\u001b[0m\n\u001b[1;32m    481\u001b[0m         X, y = check_X_y(X, y, accept_sparse=['csr', 'csc', 'coo'],\n\u001b[0;32m--> 482\u001b[0;31m                          y_numeric=True, multi_output=True)\n\u001b[0m\u001b[1;32m    483\u001b[0m \u001b[0;34m\u001b[0m\u001b[0m\n\u001b[1;32m    484\u001b[0m         \u001b[0;32mif\u001b[0m \u001b[0msample_weight\u001b[0m \u001b[0;32mis\u001b[0m \u001b[0;32mnot\u001b[0m \u001b[0;32mNone\u001b[0m \u001b[0;32mand\u001b[0m \u001b[0mnp\u001b[0m\u001b[0;34m.\u001b[0m\u001b[0matleast_1d\u001b[0m\u001b[0;34m(\u001b[0m\u001b[0msample_weight\u001b[0m\u001b[0;34m)\u001b[0m\u001b[0;34m.\u001b[0m\u001b[0mndim\u001b[0m \u001b[0;34m>\u001b[0m \u001b[0;36m1\u001b[0m\u001b[0;34m:\u001b[0m\u001b[0;34m\u001b[0m\u001b[0m\n",
      "\u001b[0;32m~/.pyenv/versions/3.6.2/lib/python3.6/site-packages/sklearn/utils/validation.py\u001b[0m in \u001b[0;36mcheck_X_y\u001b[0;34m(X, y, accept_sparse, dtype, order, copy, force_all_finite, ensure_2d, allow_nd, multi_output, ensure_min_samples, ensure_min_features, y_numeric, warn_on_dtype, estimator)\u001b[0m\n\u001b[1;32m    571\u001b[0m     X = check_array(X, accept_sparse, dtype, order, copy, force_all_finite,\n\u001b[1;32m    572\u001b[0m                     \u001b[0mensure_2d\u001b[0m\u001b[0;34m,\u001b[0m \u001b[0mallow_nd\u001b[0m\u001b[0;34m,\u001b[0m \u001b[0mensure_min_samples\u001b[0m\u001b[0;34m,\u001b[0m\u001b[0;34m\u001b[0m\u001b[0m\n\u001b[0;32m--> 573\u001b[0;31m                     ensure_min_features, warn_on_dtype, estimator)\n\u001b[0m\u001b[1;32m    574\u001b[0m     \u001b[0;32mif\u001b[0m \u001b[0mmulti_output\u001b[0m\u001b[0;34m:\u001b[0m\u001b[0;34m\u001b[0m\u001b[0m\n\u001b[1;32m    575\u001b[0m         y = check_array(y, 'csr', force_all_finite=True, ensure_2d=False,\n",
      "\u001b[0;32m~/.pyenv/versions/3.6.2/lib/python3.6/site-packages/sklearn/utils/validation.py\u001b[0m in \u001b[0;36mcheck_array\u001b[0;34m(array, accept_sparse, dtype, order, copy, force_all_finite, ensure_2d, allow_nd, ensure_min_samples, ensure_min_features, warn_on_dtype, estimator)\u001b[0m\n\u001b[1;32m    439\u001b[0m                     \u001b[0;34m\"Reshape your data either using array.reshape(-1, 1) if \"\u001b[0m\u001b[0;34m\u001b[0m\u001b[0m\n\u001b[1;32m    440\u001b[0m                     \u001b[0;34m\"your data has a single feature or array.reshape(1, -1) \"\u001b[0m\u001b[0;34m\u001b[0m\u001b[0m\n\u001b[0;32m--> 441\u001b[0;31m                     \"if it contains a single sample.\".format(array))\n\u001b[0m\u001b[1;32m    442\u001b[0m             \u001b[0marray\u001b[0m \u001b[0;34m=\u001b[0m \u001b[0mnp\u001b[0m\u001b[0;34m.\u001b[0m\u001b[0matleast_2d\u001b[0m\u001b[0;34m(\u001b[0m\u001b[0marray\u001b[0m\u001b[0;34m)\u001b[0m\u001b[0;34m\u001b[0m\u001b[0m\n\u001b[1;32m    443\u001b[0m             \u001b[0;31m# To ensure that array flags are maintained\u001b[0m\u001b[0;34m\u001b[0m\u001b[0;34m\u001b[0m\u001b[0m\n",
      "\u001b[0;31mValueError\u001b[0m: Expected 2D array, got 1D array instead:\narray=[0.5  3.5  2.5  1.75 1.25 4.25 1.   5.5  4.5  4.   3.   3.25 2.25 2.\n 2.75 1.5 ].\nReshape your data either using array.reshape(-1, 1) if your data has a single feature or array.reshape(1, -1) if it contains a single sample."
     ]
    }
   ],
   "source": [
    "'''\n",
    "运行后会报错，因为这里输入的特征只有1个。注意看报错信息，通过这个例子也学会如何分析报错信息\n",
    "'''\n",
    "#第1步：导入线性回归\n",
    "from sklearn.linear_model import LinearRegression\n",
    "# 第2步：创建模型：线性回归\n",
    "model = LinearRegression()\n",
    "#第3步：训练模型\n",
    "model.fit(X_train , y_train)"
   ]
  },
  {
   "cell_type": "code",
   "execution_count": 49,
   "metadata": {},
   "outputs": [
    {
     "data": {
      "text/plain": [
       "'\\n上面的报错内容，最后一行是这样提示我们的：\\nReshape your data either using array.reshape(-1, 1) if your data has a single feature or array.reshape(1, -1) if it contains a single sample.\\n上面报错的内容翻译过来就是：\\n如果你输入的数据只有1个特征，需要用array.reshape(-1, 1)来改变数组的形状\\nshape是形状的意思，有首歌叫《shape of you》里面指的是女孩的身材令人难以忘记。在数据里就是指数据的大小。\\nnumpy的reshape就是指改变数组的形状，下面通过几个案例你就明白了\\n'"
      ]
     },
     "execution_count": 49,
     "metadata": {},
     "output_type": "execute_result"
    }
   ],
   "source": [
    "'''\n",
    "上面的报错内容，最后一行是这样提示我们的：\n",
    "Reshape your data either using array.reshape(-1, 1) if your data has a single feature or array.reshape(1, -1) if it contains a single sample.\n",
    "上面报错的内容翻译过来就是：\n",
    "如果你输入的数据只有1个特征，需要用array.reshape(-1, 1)来改变数组的形状\n",
    "shape是形状的意思，有首歌叫《shape of you》里面指的是女孩的身材令人难以忘记。在数据里就是指数据的大小。\n",
    "numpy的reshape就是指改变数组的形状，下面通过几个案例你就明白了\n",
    "'''"
   ]
  },
  {
   "cell_type": "code",
   "execution_count": 50,
   "metadata": {},
   "outputs": [
    {
     "data": {
      "text/plain": [
       "(2, 3)"
      ]
     },
     "execution_count": 50,
     "metadata": {},
     "output_type": "execute_result"
    }
   ],
   "source": [
    "import numpy as np\n",
    "#定义2行*3列的数组\n",
    "aArr = np.array([\n",
    "    [1, 2, 3],\n",
    "    [5, 6, 7]\n",
    "])\n",
    "aArr.shape"
   ]
  },
  {
   "cell_type": "code",
   "execution_count": 51,
   "metadata": {},
   "outputs": [
    {
     "data": {
      "text/plain": [
       "(3, 2)"
      ]
     },
     "execution_count": 51,
     "metadata": {},
     "output_type": "execute_result"
    }
   ],
   "source": [
    "#改变数组形成为3行*2列\n",
    "bArr=aArr.reshape(3,2)\n",
    "bArr.shape"
   ]
  },
  {
   "cell_type": "code",
   "execution_count": 52,
   "metadata": {},
   "outputs": [
    {
     "data": {
      "text/plain": [
       "(6, 1)"
      ]
     },
     "execution_count": 52,
     "metadata": {},
     "output_type": "execute_result"
    }
   ],
   "source": [
    "'''\n",
    "reshape行的参数是-1表示什么呢？例如reshape(-1,列数)\n",
    "如果行的参数是-1，就会根据所给的列数，自动按照原始数组的大小形成一个新的数组，\n",
    "例如reshape(-1,1)就是改变成1列的数组，这个数组的长度是根据原始数组的大小来自动形成的。\n",
    "原始数组总共是2行*3列=6个数，那么这里就会形成6行*1列的数组\n",
    "'''\n",
    "cArr=aArr.reshape(-1,1)\n",
    "cArr.shape"
   ]
  },
  {
   "cell_type": "code",
   "execution_count": 53,
   "metadata": {},
   "outputs": [
    {
     "data": {
      "text/plain": [
       "array([[1, 2, 3, 5, 6, 7]])"
      ]
     },
     "execution_count": 53,
     "metadata": {},
     "output_type": "execute_result"
    }
   ],
   "source": [
    "'''\n",
    "reshape列的参数是-1表示什么呢？例如reshape(行数,-1)\n",
    "如果列的参数是-1，就会根据所给的行数，自动按照原始数组的大小形成一个新的数组，\n",
    "例如reshape(1,-1)就是改变成1行的数组，这个数组的列数是根据原始数组的大小来自动形成的。\n",
    "原始数组总共是2行*3列=6个数，那么这里就会形成1行*6列的数组\n",
    "'''\n",
    "dArr=aArr.reshape(1,-1)\n",
    "dArr.shape\n",
    "dArr"
   ]
  },
  {
   "cell_type": "code",
   "execution_count": 54,
   "metadata": {},
   "outputs": [
    {
     "data": {
      "text/plain": [
       "LinearRegression(copy_X=True, fit_intercept=True, n_jobs=1, normalize=False)"
      ]
     },
     "execution_count": 54,
     "metadata": {},
     "output_type": "execute_result"
    }
   ],
   "source": [
    "'''\n",
    "理解了reshape后，我们再来看下逻辑回归模型\n",
    "sklearn要求输入的特征必须是二维数组的类型，但是因为我们目前只有1个特征，所以需要用安装错误提示用reshape转行成二维数组的类型。\n",
    "错误提示信息：Reshape your data either using array.reshape(-1, 1) if your data has a single feature\n",
    "'''\n",
    "#将训练数据特征转换成二维数组XX行*1列\n",
    "X_train=X_train.values.reshape(-1,1)\n",
    "#将测试数据特征转换成二维数组行数*1列\n",
    "X_test=X_test.values.reshape(-1,1)\n",
    "\n",
    "#第1步：导入线性回归\n",
    "from sklearn.linear_model import LinearRegression\n",
    "# 第2步：创建模型：线性回归\n",
    "model = LinearRegression()\n",
    "#第3步：训练模型\n",
    "model.fit(X_train , y_train)"
   ]
  },
  {
   "cell_type": "code",
   "execution_count": 55,
   "metadata": {},
   "outputs": [
    {
     "name": "stdout",
     "output_type": "stream",
     "text": [
      "最佳拟合线：截距a= 8.413043478260882 ，回归系数b= [16.37681159]\n"
     ]
    }
   ],
   "source": [
    "'''\n",
    "最佳拟合线：z=𝑎+𝑏x\n",
    "截距intercept：a\n",
    "回归系数：b\n",
    "'''\n",
    "\n",
    "#截距\n",
    "a=model.intercept_\n",
    "#回归系数\n",
    "b=model.coef_\n",
    "\n",
    "print('最佳拟合线：截距a=',a,'，回归系数b=',b)"
   ]
  },
  {
   "cell_type": "code",
   "execution_count": 56,
   "metadata": {},
   "outputs": [
    {
     "data": {
      "image/png": "[encoded data removed]",
      "text/plain": [
       "<matplotlib.figure.Figure at 0x7f3ff62c7e80>"
      ]
     },
     "metadata": {},
     "output_type": "display_data"
    }
   ],
   "source": [
    "'''\n",
    "绘图的代码不需要看懂，后面会有专门的课程讲如何将数据分析结果可视化\n",
    "'''\n",
    "#绘图\n",
    "import matplotlib.pyplot as plt\n",
    "#训练数据散点图\n",
    "plt.scatter(X_train, y_train, color='blue', label=\"train data\")\n",
    "\n",
    "#训练数据的预测值\n",
    "y_train_pred = model.predict(X_train)\n",
    "#绘制最佳拟合线\n",
    "plt.plot(X_train, y_train_pred, color='black', linewidth=3, label=\"best line\")\n",
    "\n",
    "#添加图标标签\n",
    "plt.legend(loc=2)\n",
    "plt.xlabel(\"Hours\")\n",
    "plt.ylabel(\"Score\")\n",
    "#显示图像\n",
    "plt.show()"
   ]
  },
  {
   "cell_type": "code",
   "execution_count": 57,
   "metadata": {},
   "outputs": [
    {
     "name": "stdout",
     "output_type": "stream",
     "text": [
      "相关系数矩阵：\n"
     ]
    },
    {
     "data": {
      "text/html": [
       "<div>\n",
       "<style scoped>\n",
       "    .dataframe tbody tr th:only-of-type {\n",
       "        vertical-align: middle;\n",
       "    }\n",
       "\n",
       "    .dataframe tbody tr th {\n",
       "        vertical-align: top;\n",
       "    }\n",
       "\n",
       "    .dataframe thead th {\n",
       "        text-align: right;\n",
       "    }\n",
       "</style>\n",
       "<table border=\"1\" class=\"dataframe\">\n",
       "  <thead>\n",
       "    <tr style=\"text-align: right;\">\n",
       "      <th></th>\n",
       "      <th>学习时间</th>\n",
       "      <th>分数</th>\n",
       "    </tr>\n",
       "  </thead>\n",
       "  <tbody>\n",
       "    <tr>\n",
       "      <th>学习时间</th>\n",
       "      <td>1.000000</td>\n",
       "      <td>0.923985</td>\n",
       "    </tr>\n",
       "    <tr>\n",
       "      <th>分数</th>\n",
       "      <td>0.923985</td>\n",
       "      <td>1.000000</td>\n",
       "    </tr>\n",
       "  </tbody>\n",
       "</table>\n",
       "</div>"
      ],
      "text/plain": [
       "          学习时间        分数\n",
       "学习时间  1.000000  0.923985\n",
       "分数    0.923985  1.000000"
      ]
     },
     "execution_count": 57,
     "metadata": {},
     "output_type": "execute_result"
    }
   ],
   "source": [
    "#相关系数：corr返回结果是一个数据框，存放的是相关系数矩阵\n",
    "rDf=examDf.corr()\n",
    "print('相关系数矩阵：')\n",
    "rDf"
   ]
  },
  {
   "cell_type": "code",
   "execution_count": 58,
   "metadata": {},
   "outputs": [
    {
     "data": {
      "text/plain": [
       "0.9897463802851186"
      ]
     },
     "execution_count": 58,
     "metadata": {},
     "output_type": "execute_result"
    }
   ],
   "source": [
    "#线性回归的scroe方法得到的是决定系数R平方\n",
    "#评估模型:决定系数R平方\n",
    "model.score(X_test , y_test)"
   ]
  },
  {
   "cell_type": "code",
   "execution_count": 59,
   "metadata": {},
   "outputs": [
    {
     "data": {
      "image/png": "[encoded data removed]",
      "text/plain": [
       "<matplotlib.figure.Figure at 0x7f3ff6266cc0>"
      ]
     },
     "metadata": {},
     "output_type": "display_data"
    }
   ],
   "source": [
    "'''\n",
    "绘图的代码不需要看懂，后面会有专门的课程讲如何将数据分析结果可视化\n",
    "'''\n",
    "#绘图\n",
    "import matplotlib.pyplot as plt\n",
    "#训练数据散点图\n",
    "plt.scatter(X_train, y_train, color='blue', label=\"train data\")\n",
    "\n",
    "#训练数据的预测值\n",
    "y_train_pred = model.predict(X_train)\n",
    "#绘制最佳拟合线：标签用的是训练数据的预测值y_train_pred\n",
    "plt.plot(X_train, y_train_pred, color='black', linewidth=3, label=\"best line\")\n",
    "\n",
    "#测试数据散点图\n",
    "plt.scatter(X_test, y_test, color='red', label=\"test data\")\n",
    "\n",
    "#添加图标标签\n",
    "plt.legend(loc=2)\n",
    "plt.xlabel(\"Hours\")\n",
    "plt.ylabel(\"Score\")\n",
    "#显示图像\n",
    "plt.show()"
   ]
  },
  {
   "cell_type": "code",
   "execution_count": null,
   "metadata": {},
   "outputs": [],
   "source": []
  }
 ],
 "metadata": {
  "kernelspec": {
   "display_name": "Python 3",
   "language": "python",
   "name": "python3"
  },
  "language_info": {
   "codemirror_mode": {
    "name": "ipython",
    "version": 3
   },
   "file_extension": ".py",
   "mimetype": "text/x-python",
   "name": "python",
   "nbconvert_exporter": "python",
   "pygments_lexer": "ipython3",
   "version": "3.6.2"
  }
 },
 "nbformat": 4,
 "nbformat_minor": 2
}
