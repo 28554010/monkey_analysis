{
 "cells": [
  {
   "cell_type": "markdown",
   "metadata": {},
   "source": [
    "## 数据可视化：股票数据分析"
   ]
  },
  {
   "cell_type": "markdown",
   "metadata": {},
   "source": [
    "先使用conda安装：\n",
    "\n",
    "1）先在conda中进入你notebook使用的python环境，例如你在notebook中使用的环境名称是py3，\n",
    "那么conda命令就是：activate py3\n",
    "\n",
    "2）在你需要的python环境下安装数据分析pandas包，和互联数据获取包pandas-datareader"
   ]
  },
  {
   "cell_type": "code",
   "execution_count": 1,
   "metadata": {},
   "outputs": [],
   "source": [
    "#导入包\n",
    "#数据分析包\n",
    "import pandas as pd\n",
    "\n",
    "'''\n",
    "互联数据获取包\n",
    "注意：安装包的命令中的连接符是‘-’也就是pandas-datareader。\n",
    "但是这里导入包的连接符是下划线‘_’，也就是pandas-datareader\n",
    "这里一定要注意安装和导入包这两个连接符是不一样的，不然无法导入使用\n",
    "'''\n",
    "from pandas_datareader import data"
   ]
  },
  {
   "cell_type": "code",
   "execution_count": 2,
   "metadata": {},
   "outputs": [],
   "source": [
    "# 存在的问题：由于是从国外获取股票数据，会由于网络不稳定，获取数据失败，多运行几次这个cell就好了\n",
    "'''\n",
    "获取国内股票数据的方式是：“股票代码”+“对应股市”（港股为.hk，A股为.ss）\n",
    "例如腾讯是港股是：0700.hk\n",
    "'''\n",
    "#字典：6家公司的股票\n",
    "gafataDict={'谷歌':'GOOG','亚马逊':'AMZN','Facebook':'FB',\n",
    "            '苹果':'AAPL','阿里巴巴':'BABA','腾讯':'0700.hk'}"
   ]
  },
  {
   "cell_type": "markdown",
   "metadata": {},
   "source": [
    "# 阿里巴巴"
   ]
  },
  {
   "cell_type": "code",
   "execution_count": 3,
   "metadata": {},
   "outputs": [],
   "source": [
    "'''\n",
    "get_data_yahoo表示从雅虎数据源获取股票数据\n",
    "雅虎股票数据源文档：http://pandas-datareader.readthedocs.io/en/latest/remote_data.html#yahoo-finance\n",
    "'''\n",
    "# 获取哪段时间范围的股票数据\n",
    "import datetime\n",
    "# start_date = datetime.datetime(2017,1,1)\n",
    "# end_date = datetime.datetime(2018,1,1)\n",
    "start_date = '2017-01-01'\n",
    "end_date = '2018-01-01'\n",
    "#获取阿里巴巴股票数据\n",
    "babaDf=data.get_data_morningstar(gafataDict['阿里巴巴'],start_date, end_date)"
   ]
  },
  {
   "cell_type": "code",
   "execution_count": 4,
   "metadata": {
    "scrolled": true
   },
   "outputs": [
    {
     "data": {
      "text/html": [
       "<div>\n",
       "<style scoped>\n",
       "    .dataframe tbody tr th:only-of-type {\n",
       "        vertical-align: middle;\n",
       "    }\n",
       "\n",
       "    .dataframe tbody tr th {\n",
       "        vertical-align: top;\n",
       "    }\n",
       "\n",
       "    .dataframe thead th {\n",
       "        text-align: right;\n",
       "    }\n",
       "</style>\n",
       "<table border=\"1\" class=\"dataframe\">\n",
       "  <thead>\n",
       "    <tr style=\"text-align: right;\">\n",
       "      <th></th>\n",
       "      <th>Symbol</th>\n",
       "      <th>Date</th>\n",
       "      <th>Close</th>\n",
       "      <th>High</th>\n",
       "      <th>Low</th>\n",
       "      <th>Open</th>\n",
       "      <th>Volume</th>\n",
       "    </tr>\n",
       "  </thead>\n",
       "  <tbody>\n",
       "    <tr>\n",
       "      <th>1</th>\n",
       "      <td>BABA</td>\n",
       "      <td>2017-01-03</td>\n",
       "      <td>88.60</td>\n",
       "      <td>89.00</td>\n",
       "      <td>88.08</td>\n",
       "      <td>89.000</td>\n",
       "      <td>8789013</td>\n",
       "    </tr>\n",
       "    <tr>\n",
       "      <th>2</th>\n",
       "      <td>BABA</td>\n",
       "      <td>2017-01-04</td>\n",
       "      <td>90.51</td>\n",
       "      <td>90.89</td>\n",
       "      <td>88.58</td>\n",
       "      <td>88.985</td>\n",
       "      <td>11489724</td>\n",
       "    </tr>\n",
       "    <tr>\n",
       "      <th>3</th>\n",
       "      <td>BABA</td>\n",
       "      <td>2017-01-05</td>\n",
       "      <td>94.37</td>\n",
       "      <td>94.81</td>\n",
       "      <td>91.64</td>\n",
       "      <td>91.910</td>\n",
       "      <td>16816988</td>\n",
       "    </tr>\n",
       "    <tr>\n",
       "      <th>4</th>\n",
       "      <td>BABA</td>\n",
       "      <td>2017-01-06</td>\n",
       "      <td>93.89</td>\n",
       "      <td>94.50</td>\n",
       "      <td>93.00</td>\n",
       "      <td>94.400</td>\n",
       "      <td>7638216</td>\n",
       "    </tr>\n",
       "    <tr>\n",
       "      <th>5</th>\n",
       "      <td>BABA</td>\n",
       "      <td>2017-01-09</td>\n",
       "      <td>94.72</td>\n",
       "      <td>95.65</td>\n",
       "      <td>93.31</td>\n",
       "      <td>94.160</td>\n",
       "      <td>10825717</td>\n",
       "    </tr>\n",
       "  </tbody>\n",
       "</table>\n",
       "</div>"
      ],
      "text/plain": [
       "  Symbol       Date  Close   High    Low    Open    Volume\n",
       "1   BABA 2017-01-03  88.60  89.00  88.08  89.000   8789013\n",
       "2   BABA 2017-01-04  90.51  90.89  88.58  88.985  11489724\n",
       "3   BABA 2017-01-05  94.37  94.81  91.64  91.910  16816988\n",
       "4   BABA 2017-01-06  93.89  94.50  93.00  94.400   7638216\n",
       "5   BABA 2017-01-09  94.72  95.65  93.31  94.160  10825717"
      ]
     },
     "execution_count": 4,
     "metadata": {},
     "output_type": "execute_result"
    }
   ],
   "source": [
    "'''\n",
    "每日股票价位信息\n",
    "Open:开盘价\n",
    "High:最高加\n",
    "Low：最低价\n",
    "Close：收盘价\n",
    "Volume：成交量\n",
    "下面我们主要关注每日的收盘价\n",
    "'''\n",
    "\n",
    "babaDf = babaDf.reset_index()\n",
    "#清除异常值 babaDf[babaDf['Volume'] > 0]意思是选取 Volume这一列中大于0的值的每一行，重新组成一个新列表\n",
    "babaDf = babaDf[babaDf['Volume'] > 0]\n",
    "# babaDf.drop([0], inplace=True)\n",
    "#查看前5行数据\n",
    "babaDf.head()"
   ]
  },
  {
   "cell_type": "code",
   "execution_count": 5,
   "metadata": {},
   "outputs": [],
   "source": [
    "#股票数据的行索引是时间序列类型，记录每天的股票信息\n",
    "#重新设置一下索引\n",
    "babaDf.index = babaDf['Date']\n",
    "babaDf.drop(['Symbol','Date'], axis=1, inplace=True)"
   ]
  },
  {
   "cell_type": "code",
   "execution_count": 6,
   "metadata": {
    "scrolled": true
   },
   "outputs": [
    {
     "data": {
      "text/html": [
       "<div>\n",
       "<style scoped>\n",
       "    .dataframe tbody tr th:only-of-type {\n",
       "        vertical-align: middle;\n",
       "    }\n",
       "\n",
       "    .dataframe tbody tr th {\n",
       "        vertical-align: top;\n",
       "    }\n",
       "\n",
       "    .dataframe thead th {\n",
       "        text-align: right;\n",
       "    }\n",
       "</style>\n",
       "<table border=\"1\" class=\"dataframe\">\n",
       "  <thead>\n",
       "    <tr style=\"text-align: right;\">\n",
       "      <th></th>\n",
       "      <th>Close</th>\n",
       "      <th>High</th>\n",
       "      <th>Low</th>\n",
       "      <th>Open</th>\n",
       "      <th>Volume</th>\n",
       "    </tr>\n",
       "    <tr>\n",
       "      <th>Date</th>\n",
       "      <th></th>\n",
       "      <th></th>\n",
       "      <th></th>\n",
       "      <th></th>\n",
       "      <th></th>\n",
       "    </tr>\n",
       "  </thead>\n",
       "  <tbody>\n",
       "    <tr>\n",
       "      <th>2017-01-03</th>\n",
       "      <td>88.60</td>\n",
       "      <td>89.00</td>\n",
       "      <td>88.08</td>\n",
       "      <td>89.000</td>\n",
       "      <td>8789013</td>\n",
       "    </tr>\n",
       "    <tr>\n",
       "      <th>2017-01-04</th>\n",
       "      <td>90.51</td>\n",
       "      <td>90.89</td>\n",
       "      <td>88.58</td>\n",
       "      <td>88.985</td>\n",
       "      <td>11489724</td>\n",
       "    </tr>\n",
       "    <tr>\n",
       "      <th>2017-01-05</th>\n",
       "      <td>94.37</td>\n",
       "      <td>94.81</td>\n",
       "      <td>91.64</td>\n",
       "      <td>91.910</td>\n",
       "      <td>16816988</td>\n",
       "    </tr>\n",
       "    <tr>\n",
       "      <th>2017-01-06</th>\n",
       "      <td>93.89</td>\n",
       "      <td>94.50</td>\n",
       "      <td>93.00</td>\n",
       "      <td>94.400</td>\n",
       "      <td>7638216</td>\n",
       "    </tr>\n",
       "    <tr>\n",
       "      <th>2017-01-09</th>\n",
       "      <td>94.72</td>\n",
       "      <td>95.65</td>\n",
       "      <td>93.31</td>\n",
       "      <td>94.160</td>\n",
       "      <td>10825717</td>\n",
       "    </tr>\n",
       "  </tbody>\n",
       "</table>\n",
       "</div>"
      ],
      "text/plain": [
       "            Close   High    Low    Open    Volume\n",
       "Date                                             \n",
       "2017-01-03  88.60  89.00  88.08  89.000   8789013\n",
       "2017-01-04  90.51  90.89  88.58  88.985  11489724\n",
       "2017-01-05  94.37  94.81  91.64  91.910  16816988\n",
       "2017-01-06  93.89  94.50  93.00  94.400   7638216\n",
       "2017-01-09  94.72  95.65  93.31  94.160  10825717"
      ]
     },
     "execution_count": 6,
     "metadata": {},
     "output_type": "execute_result"
    }
   ],
   "source": [
    "babaDf.head()"
   ]
  },
  {
   "cell_type": "code",
   "execution_count": 7,
   "metadata": {},
   "outputs": [
    {
     "data": {
      "text/plain": [
       "DatetimeIndex(['2017-01-03', '2017-01-04', '2017-01-05', '2017-01-06',\n",
       "               '2017-01-09', '2017-01-10', '2017-01-11', '2017-01-12',\n",
       "               '2017-01-13', '2017-01-17',\n",
       "               ...\n",
       "               '2017-12-15', '2017-12-18', '2017-12-19', '2017-12-20',\n",
       "               '2017-12-21', '2017-12-22', '2017-12-26', '2017-12-27',\n",
       "               '2017-12-28', '2017-12-29'],\n",
       "              dtype='datetime64[ns]', name='Date', length=251, freq=None)"
      ]
     },
     "execution_count": 7,
     "metadata": {},
     "output_type": "execute_result"
    }
   ],
   "source": [
    "#股票数据的行索引是时间序列类型，记录每天的股票信息\n",
    "babaDf.index"
   ]
  },
  {
   "cell_type": "code",
   "execution_count": 8,
   "metadata": {},
   "outputs": [
    {
     "name": "stdout",
     "output_type": "stream",
     "text": [
      "<class 'pandas.core.frame.DataFrame'>\n",
      "DatetimeIndex: 251 entries, 2017-01-03 to 2017-12-29\n",
      "Data columns (total 5 columns):\n",
      "Close     251 non-null float64\n",
      "High      251 non-null float64\n",
      "Low       251 non-null float64\n",
      "Open      251 non-null float64\n",
      "Volume    251 non-null int64\n",
      "dtypes: float64(4), int64(1)\n",
      "memory usage: 11.8 KB\n"
     ]
    }
   ],
   "source": [
    "#查看数据集情况\n",
    "babaDf.info()"
   ]
  },
  {
   "cell_type": "code",
   "execution_count": 9,
   "metadata": {},
   "outputs": [
    {
     "data": {
      "text/plain": [
       "Close     float64\n",
       "High      float64\n",
       "Low       float64\n",
       "Open      float64\n",
       "Volume      int64\n",
       "dtype: object"
      ]
     },
     "execution_count": 9,
     "metadata": {},
     "output_type": "execute_result"
    }
   ],
   "source": [
    "#查看每一列数据类型\n",
    "babaDf.dtypes"
   ]
  },
  {
   "cell_type": "code",
   "execution_count": 10,
   "metadata": {},
   "outputs": [
    {
     "data": {
      "text/html": [
       "<div>\n",
       "<style scoped>\n",
       "    .dataframe tbody tr th:only-of-type {\n",
       "        vertical-align: middle;\n",
       "    }\n",
       "\n",
       "    .dataframe tbody tr th {\n",
       "        vertical-align: top;\n",
       "    }\n",
       "\n",
       "    .dataframe thead th {\n",
       "        text-align: right;\n",
       "    }\n",
       "</style>\n",
       "<table border=\"1\" class=\"dataframe\">\n",
       "  <thead>\n",
       "    <tr style=\"text-align: right;\">\n",
       "      <th></th>\n",
       "      <th>Close</th>\n",
       "      <th>High</th>\n",
       "      <th>Low</th>\n",
       "      <th>Open</th>\n",
       "      <th>Volume</th>\n",
       "    </tr>\n",
       "  </thead>\n",
       "  <tbody>\n",
       "    <tr>\n",
       "      <th>count</th>\n",
       "      <td>251.000000</td>\n",
       "      <td>251.000000</td>\n",
       "      <td>251.000000</td>\n",
       "      <td>251.000000</td>\n",
       "      <td>2.510000e+02</td>\n",
       "    </tr>\n",
       "    <tr>\n",
       "      <th>mean</th>\n",
       "      <td>141.791793</td>\n",
       "      <td>143.214684</td>\n",
       "      <td>140.260853</td>\n",
       "      <td>141.907052</td>\n",
       "      <td>1.550501e+07</td>\n",
       "    </tr>\n",
       "    <tr>\n",
       "      <th>std</th>\n",
       "      <td>31.875025</td>\n",
       "      <td>32.338667</td>\n",
       "      <td>31.505177</td>\n",
       "      <td>32.081428</td>\n",
       "      <td>9.386927e+06</td>\n",
       "    </tr>\n",
       "    <tr>\n",
       "      <th>min</th>\n",
       "      <td>88.600000</td>\n",
       "      <td>89.000000</td>\n",
       "      <td>88.080000</td>\n",
       "      <td>88.985000</td>\n",
       "      <td>4.119480e+06</td>\n",
       "    </tr>\n",
       "    <tr>\n",
       "      <th>25%</th>\n",
       "      <td>108.170000</td>\n",
       "      <td>109.124300</td>\n",
       "      <td>107.490050</td>\n",
       "      <td>108.430000</td>\n",
       "      <td>9.128642e+06</td>\n",
       "    </tr>\n",
       "    <tr>\n",
       "      <th>50%</th>\n",
       "      <td>143.010000</td>\n",
       "      <td>144.380000</td>\n",
       "      <td>141.480000</td>\n",
       "      <td>143.010000</td>\n",
       "      <td>1.341014e+07</td>\n",
       "    </tr>\n",
       "    <tr>\n",
       "      <th>75%</th>\n",
       "      <td>173.250000</td>\n",
       "      <td>175.140000</td>\n",
       "      <td>171.585000</td>\n",
       "      <td>173.475000</td>\n",
       "      <td>1.863931e+07</td>\n",
       "    </tr>\n",
       "    <tr>\n",
       "      <th>max</th>\n",
       "      <td>191.190000</td>\n",
       "      <td>191.750000</td>\n",
       "      <td>189.370000</td>\n",
       "      <td>191.540000</td>\n",
       "      <td>8.134728e+07</td>\n",
       "    </tr>\n",
       "  </tbody>\n",
       "</table>\n",
       "</div>"
      ],
      "text/plain": [
       "            Close        High         Low        Open        Volume\n",
       "count  251.000000  251.000000  251.000000  251.000000  2.510000e+02\n",
       "mean   141.791793  143.214684  140.260853  141.907052  1.550501e+07\n",
       "std     31.875025   32.338667   31.505177   32.081428  9.386927e+06\n",
       "min     88.600000   89.000000   88.080000   88.985000  4.119480e+06\n",
       "25%    108.170000  109.124300  107.490050  108.430000  9.128642e+06\n",
       "50%    143.010000  144.380000  141.480000  143.010000  1.341014e+07\n",
       "75%    173.250000  175.140000  171.585000  173.475000  1.863931e+07\n",
       "max    191.190000  191.750000  189.370000  191.540000  8.134728e+07"
      ]
     },
     "execution_count": 10,
     "metadata": {},
     "output_type": "execute_result"
    }
   ],
   "source": [
    "#查看数据集描述统计信息\n",
    "babaDf = babaDf[babaDf['Volume'] > 0]\n",
    "babaDf.describe()"
   ]
  },
  {
   "cell_type": "markdown",
   "metadata": {},
   "source": [
    "# 谷歌"
   ]
  },
  {
   "cell_type": "code",
   "execution_count": 11,
   "metadata": {},
   "outputs": [
    {
     "data": {
      "text/html": [
       "<div>\n",
       "<style scoped>\n",
       "    .dataframe tbody tr th:only-of-type {\n",
       "        vertical-align: middle;\n",
       "    }\n",
       "\n",
       "    .dataframe tbody tr th {\n",
       "        vertical-align: top;\n",
       "    }\n",
       "\n",
       "    .dataframe thead th {\n",
       "        text-align: right;\n",
       "    }\n",
       "</style>\n",
       "<table border=\"1\" class=\"dataframe\">\n",
       "  <thead>\n",
       "    <tr style=\"text-align: right;\">\n",
       "      <th></th>\n",
       "      <th>Close</th>\n",
       "      <th>High</th>\n",
       "      <th>Low</th>\n",
       "      <th>Open</th>\n",
       "      <th>Volume</th>\n",
       "    </tr>\n",
       "    <tr>\n",
       "      <th>Date</th>\n",
       "      <th></th>\n",
       "      <th></th>\n",
       "      <th></th>\n",
       "      <th></th>\n",
       "      <th></th>\n",
       "    </tr>\n",
       "  </thead>\n",
       "  <tbody>\n",
       "    <tr>\n",
       "      <th>2017-01-03</th>\n",
       "      <td>786.14</td>\n",
       "      <td>789.6300</td>\n",
       "      <td>775.8000</td>\n",
       "      <td>778.81</td>\n",
       "      <td>1657268</td>\n",
       "    </tr>\n",
       "    <tr>\n",
       "      <th>2017-01-04</th>\n",
       "      <td>786.90</td>\n",
       "      <td>791.3400</td>\n",
       "      <td>783.1600</td>\n",
       "      <td>788.36</td>\n",
       "      <td>1072958</td>\n",
       "    </tr>\n",
       "    <tr>\n",
       "      <th>2017-01-05</th>\n",
       "      <td>794.02</td>\n",
       "      <td>794.4800</td>\n",
       "      <td>785.0200</td>\n",
       "      <td>786.08</td>\n",
       "      <td>1335167</td>\n",
       "    </tr>\n",
       "    <tr>\n",
       "      <th>2017-01-06</th>\n",
       "      <td>806.15</td>\n",
       "      <td>807.9000</td>\n",
       "      <td>792.2041</td>\n",
       "      <td>795.26</td>\n",
       "      <td>1640170</td>\n",
       "    </tr>\n",
       "    <tr>\n",
       "      <th>2017-01-09</th>\n",
       "      <td>806.65</td>\n",
       "      <td>809.9664</td>\n",
       "      <td>802.8300</td>\n",
       "      <td>806.40</td>\n",
       "      <td>1274645</td>\n",
       "    </tr>\n",
       "  </tbody>\n",
       "</table>\n",
       "</div>"
      ],
      "text/plain": [
       "             Close      High       Low    Open   Volume\n",
       "Date                                                   \n",
       "2017-01-03  786.14  789.6300  775.8000  778.81  1657268\n",
       "2017-01-04  786.90  791.3400  783.1600  788.36  1072958\n",
       "2017-01-05  794.02  794.4800  785.0200  786.08  1335167\n",
       "2017-01-06  806.15  807.9000  792.2041  795.26  1640170\n",
       "2017-01-09  806.65  809.9664  802.8300  806.40  1274645"
      ]
     },
     "execution_count": 11,
     "metadata": {},
     "output_type": "execute_result"
    }
   ],
   "source": [
    "#获取谷歌股票数据\n",
    "googDf=data.get_data_morningstar(gafataDict['谷歌'],start_date, end_date)\n",
    "googDf = googDf.reset_index()\n",
    "# 重新索引\n",
    "googDf.index = googDf['Date']\n",
    "googDf.drop(['Symbol','Date'], axis=1, inplace=True)\n",
    "googDf = googDf[googDf['Volume'] > 0] #清理0值\n",
    "googDf.head()"
   ]
  },
  {
   "cell_type": "markdown",
   "metadata": {},
   "source": [
    "# 亚马逊"
   ]
  },
  {
   "cell_type": "code",
   "execution_count": 12,
   "metadata": {},
   "outputs": [
    {
     "data": {
      "text/html": [
       "<div>\n",
       "<style scoped>\n",
       "    .dataframe tbody tr th:only-of-type {\n",
       "        vertical-align: middle;\n",
       "    }\n",
       "\n",
       "    .dataframe tbody tr th {\n",
       "        vertical-align: top;\n",
       "    }\n",
       "\n",
       "    .dataframe thead th {\n",
       "        text-align: right;\n",
       "    }\n",
       "</style>\n",
       "<table border=\"1\" class=\"dataframe\">\n",
       "  <thead>\n",
       "    <tr style=\"text-align: right;\">\n",
       "      <th></th>\n",
       "      <th>Close</th>\n",
       "      <th>High</th>\n",
       "      <th>Low</th>\n",
       "      <th>Open</th>\n",
       "      <th>Volume</th>\n",
       "    </tr>\n",
       "    <tr>\n",
       "      <th>Date</th>\n",
       "      <th></th>\n",
       "      <th></th>\n",
       "      <th></th>\n",
       "      <th></th>\n",
       "      <th></th>\n",
       "    </tr>\n",
       "  </thead>\n",
       "  <tbody>\n",
       "    <tr>\n",
       "      <th>2017-01-03</th>\n",
       "      <td>753.67</td>\n",
       "      <td>758.7595</td>\n",
       "      <td>747.7000</td>\n",
       "      <td>757.92</td>\n",
       "      <td>3521066</td>\n",
       "    </tr>\n",
       "    <tr>\n",
       "      <th>2017-01-04</th>\n",
       "      <td>757.18</td>\n",
       "      <td>759.6800</td>\n",
       "      <td>754.2000</td>\n",
       "      <td>758.39</td>\n",
       "      <td>2510526</td>\n",
       "    </tr>\n",
       "    <tr>\n",
       "      <th>2017-01-05</th>\n",
       "      <td>780.45</td>\n",
       "      <td>782.3999</td>\n",
       "      <td>760.2557</td>\n",
       "      <td>761.55</td>\n",
       "      <td>5830068</td>\n",
       "    </tr>\n",
       "    <tr>\n",
       "      <th>2017-01-06</th>\n",
       "      <td>795.99</td>\n",
       "      <td>799.4400</td>\n",
       "      <td>778.4800</td>\n",
       "      <td>782.36</td>\n",
       "      <td>5986234</td>\n",
       "    </tr>\n",
       "    <tr>\n",
       "      <th>2017-01-09</th>\n",
       "      <td>796.92</td>\n",
       "      <td>801.7742</td>\n",
       "      <td>791.7700</td>\n",
       "      <td>798.00</td>\n",
       "      <td>3446109</td>\n",
       "    </tr>\n",
       "  </tbody>\n",
       "</table>\n",
       "</div>"
      ],
      "text/plain": [
       "             Close      High       Low    Open   Volume\n",
       "Date                                                   \n",
       "2017-01-03  753.67  758.7595  747.7000  757.92  3521066\n",
       "2017-01-04  757.18  759.6800  754.2000  758.39  2510526\n",
       "2017-01-05  780.45  782.3999  760.2557  761.55  5830068\n",
       "2017-01-06  795.99  799.4400  778.4800  782.36  5986234\n",
       "2017-01-09  796.92  801.7742  791.7700  798.00  3446109"
      ]
     },
     "execution_count": 12,
     "metadata": {},
     "output_type": "execute_result"
    }
   ],
   "source": [
    "#获取亚马逊股票数据\n",
    "amazDf=data.get_data_morningstar(gafataDict['亚马逊'],start_date, end_date)\n",
    "# 重新索引\n",
    "amazDf = amazDf.reset_index()\n",
    "amazDf.index = amazDf['Date']\n",
    "amazDf.drop(['Symbol','Date'], axis=1, inplace=True)\n",
    "amazDf = amazDf[amazDf['Volume'] > 0] #清理0值\n",
    "amazDf.head()"
   ]
  },
  {
   "cell_type": "markdown",
   "metadata": {},
   "source": [
    "# Facebook"
   ]
  },
  {
   "cell_type": "code",
   "execution_count": 13,
   "metadata": {},
   "outputs": [
    {
     "data": {
      "text/html": [
       "<div>\n",
       "<style scoped>\n",
       "    .dataframe tbody tr th:only-of-type {\n",
       "        vertical-align: middle;\n",
       "    }\n",
       "\n",
       "    .dataframe tbody tr th {\n",
       "        vertical-align: top;\n",
       "    }\n",
       "\n",
       "    .dataframe thead th {\n",
       "        text-align: right;\n",
       "    }\n",
       "</style>\n",
       "<table border=\"1\" class=\"dataframe\">\n",
       "  <thead>\n",
       "    <tr style=\"text-align: right;\">\n",
       "      <th></th>\n",
       "      <th>Close</th>\n",
       "      <th>High</th>\n",
       "      <th>Low</th>\n",
       "      <th>Open</th>\n",
       "      <th>Volume</th>\n",
       "    </tr>\n",
       "    <tr>\n",
       "      <th>Date</th>\n",
       "      <th></th>\n",
       "      <th></th>\n",
       "      <th></th>\n",
       "      <th></th>\n",
       "      <th></th>\n",
       "    </tr>\n",
       "  </thead>\n",
       "  <tbody>\n",
       "    <tr>\n",
       "      <th>2017-01-03</th>\n",
       "      <td>116.86</td>\n",
       "      <td>117.84</td>\n",
       "      <td>115.5100</td>\n",
       "      <td>116.03</td>\n",
       "      <td>20663912</td>\n",
       "    </tr>\n",
       "    <tr>\n",
       "      <th>2017-01-04</th>\n",
       "      <td>118.69</td>\n",
       "      <td>119.66</td>\n",
       "      <td>117.2900</td>\n",
       "      <td>117.55</td>\n",
       "      <td>19630932</td>\n",
       "    </tr>\n",
       "    <tr>\n",
       "      <th>2017-01-05</th>\n",
       "      <td>120.67</td>\n",
       "      <td>120.95</td>\n",
       "      <td>118.3209</td>\n",
       "      <td>118.86</td>\n",
       "      <td>19492150</td>\n",
       "    </tr>\n",
       "    <tr>\n",
       "      <th>2017-01-06</th>\n",
       "      <td>123.41</td>\n",
       "      <td>123.88</td>\n",
       "      <td>120.0300</td>\n",
       "      <td>120.98</td>\n",
       "      <td>28545263</td>\n",
       "    </tr>\n",
       "    <tr>\n",
       "      <th>2017-01-09</th>\n",
       "      <td>124.90</td>\n",
       "      <td>125.43</td>\n",
       "      <td>123.0400</td>\n",
       "      <td>123.55</td>\n",
       "      <td>22880360</td>\n",
       "    </tr>\n",
       "  </tbody>\n",
       "</table>\n",
       "</div>"
      ],
      "text/plain": [
       "             Close    High       Low    Open    Volume\n",
       "Date                                                  \n",
       "2017-01-03  116.86  117.84  115.5100  116.03  20663912\n",
       "2017-01-04  118.69  119.66  117.2900  117.55  19630932\n",
       "2017-01-05  120.67  120.95  118.3209  118.86  19492150\n",
       "2017-01-06  123.41  123.88  120.0300  120.98  28545263\n",
       "2017-01-09  124.90  125.43  123.0400  123.55  22880360"
      ]
     },
     "execution_count": 13,
     "metadata": {},
     "output_type": "execute_result"
    }
   ],
   "source": [
    "#获取Facebook股票数据\n",
    "fbDf=data.get_data_morningstar(gafataDict['Facebook'],start_date, end_date)\n",
    "# 重新索引\n",
    "fbDf = fbDf.reset_index()\n",
    "fbDf.index = fbDf['Date']\n",
    "fbDf.drop(['Symbol','Date'], axis=1, inplace=True)\n",
    "fbDf = fbDf[fbDf['Volume'] > 0] #清理0值\n",
    "fbDf.head()"
   ]
  },
  {
   "cell_type": "markdown",
   "metadata": {},
   "source": [
    "# 苹果"
   ]
  },
  {
   "cell_type": "code",
   "execution_count": 14,
   "metadata": {},
   "outputs": [
    {
     "data": {
      "text/html": [
       "<div>\n",
       "<style scoped>\n",
       "    .dataframe tbody tr th:only-of-type {\n",
       "        vertical-align: middle;\n",
       "    }\n",
       "\n",
       "    .dataframe tbody tr th {\n",
       "        vertical-align: top;\n",
       "    }\n",
       "\n",
       "    .dataframe thead th {\n",
       "        text-align: right;\n",
       "    }\n",
       "</style>\n",
       "<table border=\"1\" class=\"dataframe\">\n",
       "  <thead>\n",
       "    <tr style=\"text-align: right;\">\n",
       "      <th></th>\n",
       "      <th>Close</th>\n",
       "      <th>High</th>\n",
       "      <th>Low</th>\n",
       "      <th>Open</th>\n",
       "      <th>Volume</th>\n",
       "    </tr>\n",
       "    <tr>\n",
       "      <th>Date</th>\n",
       "      <th></th>\n",
       "      <th></th>\n",
       "      <th></th>\n",
       "      <th></th>\n",
       "      <th></th>\n",
       "    </tr>\n",
       "  </thead>\n",
       "  <tbody>\n",
       "    <tr>\n",
       "      <th>2017-01-03</th>\n",
       "      <td>116.15</td>\n",
       "      <td>116.3300</td>\n",
       "      <td>114.76</td>\n",
       "      <td>115.80</td>\n",
       "      <td>28781865</td>\n",
       "    </tr>\n",
       "    <tr>\n",
       "      <th>2017-01-04</th>\n",
       "      <td>116.02</td>\n",
       "      <td>116.5100</td>\n",
       "      <td>115.75</td>\n",
       "      <td>115.85</td>\n",
       "      <td>21118116</td>\n",
       "    </tr>\n",
       "    <tr>\n",
       "      <th>2017-01-05</th>\n",
       "      <td>116.61</td>\n",
       "      <td>116.8642</td>\n",
       "      <td>115.81</td>\n",
       "      <td>115.92</td>\n",
       "      <td>22193587</td>\n",
       "    </tr>\n",
       "    <tr>\n",
       "      <th>2017-01-06</th>\n",
       "      <td>117.91</td>\n",
       "      <td>118.1600</td>\n",
       "      <td>116.47</td>\n",
       "      <td>116.78</td>\n",
       "      <td>31751900</td>\n",
       "    </tr>\n",
       "    <tr>\n",
       "      <th>2017-01-09</th>\n",
       "      <td>118.99</td>\n",
       "      <td>119.4300</td>\n",
       "      <td>117.94</td>\n",
       "      <td>117.95</td>\n",
       "      <td>33561948</td>\n",
       "    </tr>\n",
       "  </tbody>\n",
       "</table>\n",
       "</div>"
      ],
      "text/plain": [
       "             Close      High     Low    Open    Volume\n",
       "Date                                                  \n",
       "2017-01-03  116.15  116.3300  114.76  115.80  28781865\n",
       "2017-01-04  116.02  116.5100  115.75  115.85  21118116\n",
       "2017-01-05  116.61  116.8642  115.81  115.92  22193587\n",
       "2017-01-06  117.91  118.1600  116.47  116.78  31751900\n",
       "2017-01-09  118.99  119.4300  117.94  117.95  33561948"
      ]
     },
     "execution_count": 14,
     "metadata": {},
     "output_type": "execute_result"
    }
   ],
   "source": [
    "#获取苹果股票数据\n",
    "applDf=data.get_data_morningstar(gafataDict['苹果'],start_date, end_date)\n",
    "# 重新索引\n",
    "applDf = applDf.reset_index()\n",
    "applDf.index = applDf['Date']\n",
    "applDf.drop(['Symbol','Date'], axis=1, inplace=True)\n",
    "applDf = applDf[applDf['Volume'] > 0] #清理0值\n",
    "applDf.head()"
   ]
  },
  {
   "cell_type": "markdown",
   "metadata": {},
   "source": [
    "# 腾讯"
   ]
  },
  {
   "cell_type": "code",
   "execution_count": 19,
   "metadata": {},
   "outputs": [
    {
     "data": {
      "text/html": [
       "<div>\n",
       "<style scoped>\n",
       "    .dataframe tbody tr th:only-of-type {\n",
       "        vertical-align: middle;\n",
       "    }\n",
       "\n",
       "    .dataframe tbody tr th {\n",
       "        vertical-align: top;\n",
       "    }\n",
       "\n",
       "    .dataframe thead th {\n",
       "        text-align: right;\n",
       "    }\n",
       "</style>\n",
       "<table border=\"1\" class=\"dataframe\">\n",
       "  <thead>\n",
       "    <tr style=\"text-align: right;\">\n",
       "      <th></th>\n",
       "      <th>Close</th>\n",
       "      <th>High</th>\n",
       "      <th>Low</th>\n",
       "      <th>Open</th>\n",
       "      <th>Volume</th>\n",
       "    </tr>\n",
       "    <tr>\n",
       "      <th>Date</th>\n",
       "      <th></th>\n",
       "      <th></th>\n",
       "      <th></th>\n",
       "      <th></th>\n",
       "      <th></th>\n",
       "    </tr>\n",
       "  </thead>\n",
       "  <tbody>\n",
       "    <tr>\n",
       "      <th>2017-01-03</th>\n",
       "      <td>786.14</td>\n",
       "      <td>789.6300</td>\n",
       "      <td>775.8000</td>\n",
       "      <td>778.81</td>\n",
       "      <td>1657268</td>\n",
       "    </tr>\n",
       "    <tr>\n",
       "      <th>2017-01-04</th>\n",
       "      <td>786.90</td>\n",
       "      <td>791.3400</td>\n",
       "      <td>783.1600</td>\n",
       "      <td>788.36</td>\n",
       "      <td>1072958</td>\n",
       "    </tr>\n",
       "    <tr>\n",
       "      <th>2017-01-05</th>\n",
       "      <td>794.02</td>\n",
       "      <td>794.4800</td>\n",
       "      <td>785.0200</td>\n",
       "      <td>786.08</td>\n",
       "      <td>1335167</td>\n",
       "    </tr>\n",
       "    <tr>\n",
       "      <th>2017-01-06</th>\n",
       "      <td>806.15</td>\n",
       "      <td>807.9000</td>\n",
       "      <td>792.2041</td>\n",
       "      <td>795.26</td>\n",
       "      <td>1640170</td>\n",
       "    </tr>\n",
       "    <tr>\n",
       "      <th>2017-01-09</th>\n",
       "      <td>806.65</td>\n",
       "      <td>809.9664</td>\n",
       "      <td>802.8300</td>\n",
       "      <td>806.40</td>\n",
       "      <td>1274645</td>\n",
       "    </tr>\n",
       "  </tbody>\n",
       "</table>\n",
       "</div>"
      ],
      "text/plain": [
       "             Close      High       Low    Open   Volume\n",
       "Date                                                   \n",
       "2017-01-03  786.14  789.6300  775.8000  778.81  1657268\n",
       "2017-01-04  786.90  791.3400  783.1600  788.36  1072958\n",
       "2017-01-05  794.02  794.4800  785.0200  786.08  1335167\n",
       "2017-01-06  806.15  807.9000  792.2041  795.26  1640170\n",
       "2017-01-09  806.65  809.9664  802.8300  806.40  1274645"
      ]
     },
     "execution_count": 19,
     "metadata": {},
     "output_type": "execute_result"
    }
   ],
   "source": [
    "#获取腾讯股票数据\n",
    "#这里获取不到，用谷歌的代替一下\n",
    "txDf=data.get_data_morningstar(gafataDict['谷歌'],start_date, end_date)\n",
    "# 重新索引\n",
    "txDf = txDf.reset_index()\n",
    "txDf.index = txDf['Date']\n",
    "txDf.drop(['Symbol','Date'], axis=1, inplace=True)\n",
    "txDf = txDf[txDf['Volume'] > 0] #清理0值\n",
    "txDf.head()"
   ]
  },
  {
   "cell_type": "code",
   "execution_count": 20,
   "metadata": {},
   "outputs": [
    {
     "data": {
      "text/html": [
       "<div>\n",
       "<style scoped>\n",
       "    .dataframe tbody tr th:only-of-type {\n",
       "        vertical-align: middle;\n",
       "    }\n",
       "\n",
       "    .dataframe tbody tr th {\n",
       "        vertical-align: top;\n",
       "    }\n",
       "\n",
       "    .dataframe thead th {\n",
       "        text-align: right;\n",
       "    }\n",
       "</style>\n",
       "<table border=\"1\" class=\"dataframe\">\n",
       "  <thead>\n",
       "    <tr style=\"text-align: right;\">\n",
       "      <th></th>\n",
       "      <th>Close</th>\n",
       "      <th>High</th>\n",
       "      <th>Low</th>\n",
       "      <th>Open</th>\n",
       "      <th>Volume</th>\n",
       "      <th>Close_dollar</th>\n",
       "    </tr>\n",
       "    <tr>\n",
       "      <th>Date</th>\n",
       "      <th></th>\n",
       "      <th></th>\n",
       "      <th></th>\n",
       "      <th></th>\n",
       "      <th></th>\n",
       "      <th></th>\n",
       "    </tr>\n",
       "  </thead>\n",
       "  <tbody>\n",
       "    <tr>\n",
       "      <th>2017-01-03</th>\n",
       "      <td>786.14</td>\n",
       "      <td>789.6300</td>\n",
       "      <td>775.8000</td>\n",
       "      <td>778.81</td>\n",
       "      <td>1657268</td>\n",
       "      <td>100.468692</td>\n",
       "    </tr>\n",
       "    <tr>\n",
       "      <th>2017-01-04</th>\n",
       "      <td>786.90</td>\n",
       "      <td>791.3400</td>\n",
       "      <td>783.1600</td>\n",
       "      <td>788.36</td>\n",
       "      <td>1072958</td>\n",
       "      <td>100.565820</td>\n",
       "    </tr>\n",
       "    <tr>\n",
       "      <th>2017-01-05</th>\n",
       "      <td>794.02</td>\n",
       "      <td>794.4800</td>\n",
       "      <td>785.0200</td>\n",
       "      <td>786.08</td>\n",
       "      <td>1335167</td>\n",
       "      <td>101.475756</td>\n",
       "    </tr>\n",
       "    <tr>\n",
       "      <th>2017-01-06</th>\n",
       "      <td>806.15</td>\n",
       "      <td>807.9000</td>\n",
       "      <td>792.2041</td>\n",
       "      <td>795.26</td>\n",
       "      <td>1640170</td>\n",
       "      <td>103.025970</td>\n",
       "    </tr>\n",
       "    <tr>\n",
       "      <th>2017-01-09</th>\n",
       "      <td>806.65</td>\n",
       "      <td>809.9664</td>\n",
       "      <td>802.8300</td>\n",
       "      <td>806.40</td>\n",
       "      <td>1274645</td>\n",
       "      <td>103.089870</td>\n",
       "    </tr>\n",
       "  </tbody>\n",
       "</table>\n",
       "</div>"
      ],
      "text/plain": [
       "             Close      High       Low    Open   Volume  Close_dollar\n",
       "Date                                                                 \n",
       "2017-01-03  786.14  789.6300  775.8000  778.81  1657268    100.468692\n",
       "2017-01-04  786.90  791.3400  783.1600  788.36  1072958    100.565820\n",
       "2017-01-05  794.02  794.4800  785.0200  786.08  1335167    101.475756\n",
       "2017-01-06  806.15  807.9000  792.2041  795.26  1640170    103.025970\n",
       "2017-01-09  806.65  809.9664  802.8300  806.40  1274645    103.089870"
      ]
     },
     "execution_count": 20,
     "metadata": {},
     "output_type": "execute_result"
    }
   ],
   "source": [
    "#腾讯是港股，所以这里的收盘价是港币，按照今天的汇率将其转化为美元\n",
    "exchange=0.1278 #港币兑换美元的汇率，这个值可以根据在网上查到当天的最新汇率\n",
    "#为了方便后期多家公司的股价比较，增加新的一列收盘价（美元）\n",
    "txDf['Close_dollar']= txDf['Close']* exchange\n",
    "txDf.head()"
   ]
  },
  {
   "cell_type": "markdown",
   "metadata": {},
   "source": [
    "# 数据可视化"
   ]
  },
  {
   "cell_type": "code",
   "execution_count": 21,
   "metadata": {},
   "outputs": [],
   "source": [
    "#导入可视化包\n",
    "import matplotlib.pyplot as plt"
   ]
  },
  {
   "cell_type": "markdown",
   "metadata": {},
   "source": [
    "绘制股票走势"
   ]
  },
  {
   "cell_type": "code",
   "execution_count": 22,
   "metadata": {
    "scrolled": true
   },
   "outputs": [
    {
     "data": {
      "image/png": "[encoded data removed]",
      "text/plain": [
       "<matplotlib.figure.Figure at 0x7f395df33fd0>"
      ]
     },
     "metadata": {},
     "output_type": "display_data"
    }
   ],
   "source": [
    "'''\n",
    "横轴x是股票时间（babaDf.index是Pandas二维数据Dataframe的行索引，这里是时间序列）\n",
    "纵轴y是收盘价Close这一列数据\n",
    "plot默认是线条图\n",
    "'''\n",
    "babaDf.plot(x=babaDf.index,y='Close')\n",
    "#x坐标轴文本\n",
    "plt.xlabel('时间')\n",
    "#y坐标轴文本\n",
    "plt.ylabel('股价（美元）')\n",
    "#图片标题\n",
    "plt.title('2017年阿里巴巴股价走势')\n",
    "#显示网格\n",
    "plt.grid(True)\n",
    "#显示图形\n",
    "plt.show()"
   ]
  },
  {
   "cell_type": "markdown",
   "metadata": {},
   "source": [
    "分析结果：通过图中显然可以看出阿里巴巴的股票价格总体趋势是增长的，是值得投资的一家公司。"
   ]
  },
  {
   "cell_type": "markdown",
   "metadata": {},
   "source": [
    "散点图：成交量和股价"
   ]
  },
  {
   "cell_type": "code",
   "execution_count": 23,
   "metadata": {},
   "outputs": [
    {
     "data": {
      "image/png": "[encoded data removed]",
      "text/plain": [
       "<matplotlib.figure.Figure at 0x7f395be4b320>"
      ]
     },
     "metadata": {},
     "output_type": "display_data"
    }
   ],
   "source": [
    "'''\n",
    "我们给plot传入的横轴x坐标轴数据成交量这一列的数据，\n",
    "纵轴y坐标轴数据是收盘价这一列的数据，\n",
    "同时增加了一个参数叫kind这个值表示绘制图形的类型，这里的值等于scatter表示绘制散点图。\n",
    "kind取值（图形类型）参考官方文档：http://pandas.pydata.org/pandas-docs/stable/visualization.html\n",
    "'''\n",
    "babaDf.plot(x='Volume',y='Close',kind='scatter')\n",
    "# plt.scatter(x=babaDf['Volume'], y=babaDf['Close'])\n",
    "#x坐标轴文本\n",
    "plt.xlabel('成交量')\n",
    "#y坐标轴文本\n",
    "plt.ylabel('股价（美元）')\n",
    "#图片标题\n",
    "plt.title('成交量和股价')\n",
    "#显示网格\n",
    "plt.grid(True)\n",
    "#显示图形\n",
    "plt.show()"
   ]
  },
  {
   "cell_type": "code",
   "execution_count": 24,
   "metadata": {},
   "outputs": [
    {
     "data": {
      "text/html": [
       "<div>\n",
       "<style scoped>\n",
       "    .dataframe tbody tr th:only-of-type {\n",
       "        vertical-align: middle;\n",
       "    }\n",
       "\n",
       "    .dataframe tbody tr th {\n",
       "        vertical-align: top;\n",
       "    }\n",
       "\n",
       "    .dataframe thead th {\n",
       "        text-align: right;\n",
       "    }\n",
       "</style>\n",
       "<table border=\"1\" class=\"dataframe\">\n",
       "  <thead>\n",
       "    <tr style=\"text-align: right;\">\n",
       "      <th></th>\n",
       "      <th>Close</th>\n",
       "      <th>High</th>\n",
       "      <th>Low</th>\n",
       "      <th>Open</th>\n",
       "      <th>Volume</th>\n",
       "    </tr>\n",
       "  </thead>\n",
       "  <tbody>\n",
       "    <tr>\n",
       "      <th>Close</th>\n",
       "      <td>1.000000</td>\n",
       "      <td>0.999073</td>\n",
       "      <td>0.999249</td>\n",
       "      <td>0.998130</td>\n",
       "      <td>0.415311</td>\n",
       "    </tr>\n",
       "    <tr>\n",
       "      <th>High</th>\n",
       "      <td>0.999073</td>\n",
       "      <td>1.000000</td>\n",
       "      <td>0.998761</td>\n",
       "      <td>0.999292</td>\n",
       "      <td>0.432591</td>\n",
       "    </tr>\n",
       "    <tr>\n",
       "      <th>Low</th>\n",
       "      <td>0.999249</td>\n",
       "      <td>0.998761</td>\n",
       "      <td>1.000000</td>\n",
       "      <td>0.998758</td>\n",
       "      <td>0.400954</td>\n",
       "    </tr>\n",
       "    <tr>\n",
       "      <th>Open</th>\n",
       "      <td>0.998130</td>\n",
       "      <td>0.999292</td>\n",
       "      <td>0.998758</td>\n",
       "      <td>1.000000</td>\n",
       "      <td>0.425302</td>\n",
       "    </tr>\n",
       "    <tr>\n",
       "      <th>Volume</th>\n",
       "      <td>0.415311</td>\n",
       "      <td>0.432591</td>\n",
       "      <td>0.400954</td>\n",
       "      <td>0.425302</td>\n",
       "      <td>1.000000</td>\n",
       "    </tr>\n",
       "  </tbody>\n",
       "</table>\n",
       "</div>"
      ],
      "text/plain": [
       "           Close      High       Low      Open    Volume\n",
       "Close   1.000000  0.999073  0.999249  0.998130  0.415311\n",
       "High    0.999073  1.000000  0.998761  0.999292  0.432591\n",
       "Low     0.999249  0.998761  1.000000  0.998758  0.400954\n",
       "Open    0.998130  0.999292  0.998758  1.000000  0.425302\n",
       "Volume  0.415311  0.432591  0.400954  0.425302  1.000000"
      ]
     },
     "execution_count": 24,
     "metadata": {},
     "output_type": "execute_result"
    }
   ],
   "source": [
    "#得到相关系数矩阵\n",
    "'''\n",
    "得到相关系数矩阵，不知道什么是相关系数矩阵的可以回顾这个课程：\n",
    "《机器学习入门：简单线性回归》：https://www.zhihu.com/lives/934023671148949504\n",
    "'''\n",
    "babaDf.corr()"
   ]
  },
  {
   "cell_type": "markdown",
   "metadata": {},
   "source": [
    "GAFATA股价走势比较"
   ]
  },
  {
   "cell_type": "code",
   "execution_count": 25,
   "metadata": {},
   "outputs": [
    {
     "data": {
      "image/png": "[encoded data removed]",
      "text/plain": [
       "<matplotlib.figure.Figure at 0x7f395be40320>"
      ]
     },
     "metadata": {},
     "output_type": "display_data"
    }
   ],
   "source": [
    "#绘制谷歌的画纸1\n",
    "ax1=googDf.plot(x=googDf.index,y='Close')\n",
    "#通过指定画纸ax，在同一张画纸上绘图\n",
    "#亚马逊\n",
    "amazDf.plot(ax=ax1,x=amazDf.index,y='Close')\n",
    "#Facebook\n",
    "fbDf.plot(ax=ax1,x=fbDf.index,y='Close')\n",
    "#苹果\n",
    "applDf.plot(ax=ax1,x=applDf.index,y='Close')\n",
    "#阿里巴巴\n",
    "babaDf.plot(ax=ax1,x=babaDf.index,y='Close')\n",
    "#腾讯\n",
    "txDf.plot(ax=ax1,x=txDf.index,y='Close_dollar')\n",
    "#x坐标轴文本\n",
    "plt.xlabel('时间')\n",
    "#y坐标轴文本\n",
    "plt.ylabel('股价（美元）')\n",
    "#图片标题\n",
    "plt.title('2017年GAFATA股价走势比较')\n",
    "#显示网格\n",
    "plt.grid(True)\n",
    "plt.show()"
   ]
  },
  {
   "cell_type": "code",
   "execution_count": 26,
   "metadata": {},
   "outputs": [
    {
     "data": {
      "image/png": "[encoded data removed]",
      "text/plain": [
       "<matplotlib.figure.Figure at 0x7f395bccb5c0>"
      ]
     },
     "metadata": {},
     "output_type": "display_data"
    }
   ],
   "source": [
    "'''\n",
    "使用label自定义图例\n",
    "'''\n",
    "#绘制谷歌的画纸1\n",
    "ax1=googDf.plot(x=googDf.index,y='Close',label='谷歌')\n",
    "#通过指定画纸ax，在同一张画纸上绘图\n",
    "#亚马逊\n",
    "amazDf.plot(ax=ax1,x=amazDf.index,y='Close',label='亚马逊')\n",
    "#Facebook\n",
    "fbDf.plot(ax=ax1,x=fbDf.index,y='Close',label='Facebook')\n",
    "#苹果\n",
    "applDf.plot(ax=ax1,x=applDf.index,y='Close',label='苹果')\n",
    "#阿里巴巴\n",
    "babaDf.plot(ax=ax1,x=babaDf.index,y='Close',label='阿里巴巴')\n",
    "#腾讯\n",
    "txDf.plot(ax=ax1,x=txDf.index,y='Close_dollar',label='腾讯')\n",
    "#x坐标轴文本\n",
    "plt.xlabel('时间')\n",
    "#y坐标轴文本\n",
    "plt.ylabel('股价（美元）')\n",
    "#图片标题\n",
    "plt.title('2017年GAFATA股价走势比较')\n",
    "#显示网格\n",
    "plt.grid(True)\n",
    "plt.show()"
   ]
  },
  {
   "cell_type": "markdown",
   "metadata": {},
   "source": [
    "因为谷歌和亚马逊的股价比较高，造成我们看不出其他4家公司的股票走势。\n",
    "所以根据股价我们可以将这6家公司分成2组，一组是股价较高的谷歌和亚马逊。另外一组是股价较低的4家公司。"
   ]
  },
  {
   "cell_type": "code",
   "execution_count": 28,
   "metadata": {},
   "outputs": [
    {
     "data": {
      "image/png": "[encoded data removed]",
      "text/plain": [
       "<matplotlib.figure.Figure at 0x7f395bcc0eb8>"
      ]
     },
     "metadata": {},
     "output_type": "display_data"
    }
   ],
   "source": [
    "'''\n",
    "第1组：谷歌，亚马逊\n",
    "'''\n",
    "#绘制谷歌的画纸2\n",
    "ax2=googDf.plot(x=googDf.index,y='Close',label='谷歌')\n",
    "#通过指定画纸ax，在同一张画纸上绘图\n",
    "#亚马逊\n",
    "amazDf.plot(ax=ax2,x=amazDf.index,y='Close',label='亚马逊')\n",
    "#x坐标轴文本\n",
    "plt.xlabel('时间')\n",
    "#y坐标轴文本\n",
    "plt.ylabel('股价（美元）')\n",
    "#图片标题\n",
    "plt.title('2017年谷歌和亚马逊股价走势比较')\n",
    "#显示网格\n",
    "plt.grid(True)\n",
    "plt.show()"
   ]
  },
  {
   "cell_type": "code",
   "execution_count": 29,
   "metadata": {},
   "outputs": [
    {
     "data": {
      "image/png": "[encoded data removed]",
      "text/plain": [
       "<matplotlib.figure.Figure at 0x7f395bbb9c88>"
      ]
     },
     "metadata": {},
     "output_type": "display_data"
    }
   ],
   "source": [
    "'''\n",
    "第2组：4家公司\n",
    "'''\n",
    "#绘制Facebook的画纸3\n",
    "#通过指定画纸ax，在同一张画纸上绘图\n",
    "#Facebook\n",
    "ax3=fbDf.plot(x=fbDf.index,y='Close',label='Facebook')\n",
    "#苹果\n",
    "applDf.plot(ax=ax3,x=applDf.index,y='Close',label='苹果')\n",
    "#阿里巴巴\n",
    "babaDf.plot(ax=ax3,x=babaDf.index,y='Close',label='阿里巴巴')\n",
    "#腾讯\n",
    "txDf.plot(ax=ax3,x=txDf.index,y='Close_dollar',label='腾讯')\n",
    "#x坐标轴文本\n",
    "plt.xlabel('时间')\n",
    "#y坐标轴文本\n",
    "plt.ylabel('股价（美元）')\n",
    "#图片标题\n",
    "plt.title('2017年4家公司股价走势比较')\n",
    "#显示网格\n",
    "plt.grid(True)\n",
    "plt.show()"
   ]
  },
  {
   "cell_type": "markdown",
   "metadata": {},
   "source": [
    "柱状图：六家公司股票的平均值"
   ]
  },
  {
   "cell_type": "code",
   "execution_count": 30,
   "metadata": {},
   "outputs": [
    {
     "data": {
      "image/png": "[encoded data removed]",
      "text/plain": [
       "<matplotlib.figure.Figure at 0x7f395bad5128>"
      ]
     },
     "metadata": {},
     "output_type": "display_data"
    }
   ],
   "source": [
    "#6家公司股票收盘价平均值\n",
    "gafataMeanList=[googDf['Close'].mean(),#谷歌\n",
    "           amazDf['Close'].mean(),#亚马逊\n",
    "           fbDf['Close'].mean(),#Facebook\n",
    "           applDf['Close'].mean(),#苹果\n",
    "           babaDf['Close'].mean(),#阿里巴巴\n",
    "           txDf['Close_dollar'].mean()#腾讯\n",
    "           ]\n",
    "#创建pandas一维数组Series\n",
    "gafataMeanSer=pd.Series(gafataMeanList,\n",
    "                       index=['谷歌',\n",
    "                             '亚马逊',\n",
    "                            'Facebook',\n",
    "                              '苹果',\n",
    "                             '阿里巴巴',\n",
    "                             '腾讯'])\n",
    "gafataMeanSer.plot(kind='bar',label='GAFATA')\n",
    "#图片标题\n",
    "plt.title('2017年GAFATA股价平均值')\n",
    "#x坐标轴文本\n",
    "plt.xlabel('公司名称')\n",
    "#y坐标轴文本\n",
    "plt.ylabel('股价平均值（美元）')\n",
    "plt.grid(True)\n",
    "plt.show()"
   ]
  },
  {
   "cell_type": "markdown",
   "metadata": {},
   "source": [
    "分析结果：可以看出，仅从股票价格上来判断，亚马逊和谷歌的股票价格要远远的超过了其他四家。但是这里只是算的平均值，下面我们看下用四分位数绘制的箱线图"
   ]
  },
  {
   "cell_type": "code",
   "execution_count": 31,
   "metadata": {},
   "outputs": [
    {
     "data": {
      "text/html": [
       "<div>\n",
       "<style scoped>\n",
       "    .dataframe tbody tr th:only-of-type {\n",
       "        vertical-align: middle;\n",
       "    }\n",
       "\n",
       "    .dataframe tbody tr th {\n",
       "        vertical-align: top;\n",
       "    }\n",
       "\n",
       "    .dataframe thead th {\n",
       "        text-align: right;\n",
       "    }\n",
       "</style>\n",
       "<table border=\"1\" class=\"dataframe\">\n",
       "  <thead>\n",
       "    <tr style=\"text-align: right;\">\n",
       "      <th></th>\n",
       "      <th>谷歌</th>\n",
       "      <th>亚马逊</th>\n",
       "      <th>Facebook</th>\n",
       "      <th>Facebook</th>\n",
       "      <th>阿里巴巴</th>\n",
       "      <th>阿里巴巴</th>\n",
       "    </tr>\n",
       "    <tr>\n",
       "      <th>Date</th>\n",
       "      <th></th>\n",
       "      <th></th>\n",
       "      <th></th>\n",
       "      <th></th>\n",
       "      <th></th>\n",
       "      <th></th>\n",
       "    </tr>\n",
       "  </thead>\n",
       "  <tbody>\n",
       "    <tr>\n",
       "      <th>2017-01-03</th>\n",
       "      <td>786.14</td>\n",
       "      <td>753.67</td>\n",
       "      <td>116.86</td>\n",
       "      <td>116.15</td>\n",
       "      <td>88.60</td>\n",
       "      <td>100.468692</td>\n",
       "    </tr>\n",
       "    <tr>\n",
       "      <th>2017-01-04</th>\n",
       "      <td>786.90</td>\n",
       "      <td>757.18</td>\n",
       "      <td>118.69</td>\n",
       "      <td>116.02</td>\n",
       "      <td>90.51</td>\n",
       "      <td>100.565820</td>\n",
       "    </tr>\n",
       "    <tr>\n",
       "      <th>2017-01-05</th>\n",
       "      <td>794.02</td>\n",
       "      <td>780.45</td>\n",
       "      <td>120.67</td>\n",
       "      <td>116.61</td>\n",
       "      <td>94.37</td>\n",
       "      <td>101.475756</td>\n",
       "    </tr>\n",
       "    <tr>\n",
       "      <th>2017-01-06</th>\n",
       "      <td>806.15</td>\n",
       "      <td>795.99</td>\n",
       "      <td>123.41</td>\n",
       "      <td>117.91</td>\n",
       "      <td>93.89</td>\n",
       "      <td>103.025970</td>\n",
       "    </tr>\n",
       "    <tr>\n",
       "      <th>2017-01-09</th>\n",
       "      <td>806.65</td>\n",
       "      <td>796.92</td>\n",
       "      <td>124.90</td>\n",
       "      <td>118.99</td>\n",
       "      <td>94.72</td>\n",
       "      <td>103.089870</td>\n",
       "    </tr>\n",
       "  </tbody>\n",
       "</table>\n",
       "</div>"
      ],
      "text/plain": [
       "                谷歌     亚马逊  Facebook  Facebook   阿里巴巴        阿里巴巴\n",
       "Date                                                             \n",
       "2017-01-03  786.14  753.67    116.86    116.15  88.60  100.468692\n",
       "2017-01-04  786.90  757.18    118.69    116.02  90.51  100.565820\n",
       "2017-01-05  794.02  780.45    120.67    116.61  94.37  101.475756\n",
       "2017-01-06  806.15  795.99    123.41    117.91  93.89  103.025970\n",
       "2017-01-09  806.65  796.92    124.90    118.99  94.72  103.089870"
      ]
     },
     "execution_count": 31,
     "metadata": {},
     "output_type": "execute_result"
    }
   ],
   "source": [
    "#存放6家公司的收盘价\n",
    "closeDf=pd.DataFrame()\n",
    "#合并6家公司的收盘价\n",
    "closeDf=pd.concat([closeDf,googDf['Close'],#谷歌\n",
    "                      amazDf['Close'],#亚马逊\n",
    "                      fbDf['Close'],#Facebook\n",
    "                      applDf['Close'],#苹果\n",
    "                      babaDf['Close'],#阿里巴巴\n",
    "                      txDf['Close_dollar']#腾讯 \n",
    "                 ],axis=1)\n",
    "#重命名列名为公司名称\n",
    "closeDf.columns=['谷歌','亚马逊','Facebook','Facebook','阿里巴巴','阿里巴巴']\n",
    "\n",
    "closeDf.head()"
   ]
  },
  {
   "cell_type": "code",
   "execution_count": 32,
   "metadata": {},
   "outputs": [
    {
     "data": {
      "image/png": "[encoded data removed]",
      "text/plain": [
       "<matplotlib.figure.Figure at 0x7f395bb4bd30>"
      ]
     },
     "metadata": {},
     "output_type": "display_data"
    }
   ],
   "source": [
    "#箱线图\n",
    "closeDf.plot(kind='box')\n",
    "plt.grid(True)\n",
    "plt.show()"
   ]
  }
 ],
 "metadata": {
  "kernelspec": {
   "display_name": "Python 3",
   "language": "python",
   "name": "python3"
  },
  "language_info": {
   "codemirror_mode": {
    "name": "ipython",
    "version": 3
   },
   "file_extension": ".py",
   "mimetype": "text/x-python",
   "name": "python",
   "nbconvert_exporter": "python",
   "pygments_lexer": "ipython3",
   "version": "3.6.2"
  }
 },
 "nbformat": 4,
 "nbformat_minor": 2
}
